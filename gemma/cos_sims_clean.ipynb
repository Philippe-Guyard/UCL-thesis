{
 "cells": [
  {
   "cell_type": "code",
   "execution_count": 1,
   "metadata": {},
   "outputs": [],
   "source": [
    "from pathlib import Path\n",
    "from typing import Callable, Optional\n",
    "from dataclasses import dataclass\n",
    "\n",
    "from opt_sim_dataset import OptSimilaritiesDataset\n",
    "\n",
    "import torch\n",
    "import torch.nn as nn\n",
    "import torch.nn.functional as F \n",
    "from torch.utils.data import DataLoader, random_split\n",
    "\n",
    "from tqdm.notebook import tqdm"
   ]
  },
  {
   "cell_type": "code",
   "execution_count": 3,
   "metadata": {},
   "outputs": [],
   "source": [
    "data = OptSimilaritiesDataset(Path('./data'), 18, 26, 1, dtype=torch.float)"
   ]
  },
  {
   "cell_type": "code",
   "execution_count": 4,
   "metadata": {},
   "outputs": [
    {
     "ename": "RuntimeError",
     "evalue": "BFloat16 did not match Float",
     "output_type": "error",
     "traceback": [
      "\u001b[0;31m---------------------------------------------------------------------------\u001b[0m",
      "\u001b[0;31mRuntimeError\u001b[0m                              Traceback (most recent call last)",
      "Cell \u001b[0;32mIn[4], line 43\u001b[0m\n\u001b[1;32m     36\u001b[0m     y2 \u001b[38;5;241m=\u001b[39m F\u001b[38;5;241m.\u001b[39mcosine_similarity(\n\u001b[1;32m     37\u001b[0m         torch\u001b[38;5;241m.\u001b[39mload(\u001b[38;5;124m'\u001b[39m\u001b[38;5;124m./data/block1/1/0.pt\u001b[39m\u001b[38;5;124m'\u001b[39m),\n\u001b[1;32m     38\u001b[0m         torch\u001b[38;5;241m.\u001b[39mload(\u001b[38;5;124mf\u001b[39m\u001b[38;5;124m'\u001b[39m\u001b[38;5;124m./data/block\u001b[39m\u001b[38;5;132;01m{\u001b[39;00mdata\u001b[38;5;241m.\u001b[39mn\u001b[38;5;250m \u001b[39m\u001b[38;5;241m+\u001b[39m\u001b[38;5;250m \u001b[39m\u001b[38;5;241m1\u001b[39m\u001b[38;5;132;01m}\u001b[39;00m\u001b[38;5;124m/1/0.pt\u001b[39m\u001b[38;5;124m'\u001b[39m),\n\u001b[1;32m     39\u001b[0m         dim\u001b[38;5;241m=\u001b[39m\u001b[38;5;241m-\u001b[39m\u001b[38;5;241m1\u001b[39m\n\u001b[1;32m     40\u001b[0m     )\n\u001b[1;32m     41\u001b[0m     \u001b[38;5;28;01massert\u001b[39;00m torch\u001b[38;5;241m.\u001b[39misclose(Y[first_sample_len], y2), \u001b[38;5;124m'\u001b[39m\u001b[38;5;124mWrong y values\u001b[39m\u001b[38;5;124m'\u001b[39m\n\u001b[0;32m---> 43\u001b[0m \u001b[43mtest_dataset\u001b[49m\u001b[43m(\u001b[49m\u001b[43mdata\u001b[49m\u001b[43m)\u001b[49m\n\u001b[1;32m     44\u001b[0m \u001b[38;5;28mprint\u001b[39m(\u001b[38;5;124m'\u001b[39m\u001b[38;5;124mAll tests passed\u001b[39m\u001b[38;5;124m'\u001b[39m)\n",
      "Cell \u001b[0;32mIn[4], line 11\u001b[0m, in \u001b[0;36mtest_dataset\u001b[0;34m(data)\u001b[0m\n\u001b[1;32m      8\u001b[0m     blocks\u001b[38;5;241m.\u001b[39mappend(block)\n\u001b[1;32m     10\u001b[0m x0 \u001b[38;5;241m=\u001b[39m torch\u001b[38;5;241m.\u001b[39mload(\u001b[38;5;124m'\u001b[39m\u001b[38;5;124m./data/block0/0/0.pt\u001b[39m\u001b[38;5;124m'\u001b[39m)\n\u001b[0;32m---> 11\u001b[0m \u001b[38;5;28;01massert\u001b[39;00m \u001b[43mtorch\u001b[49m\u001b[38;5;241;43m.\u001b[39;49m\u001b[43mallclose\u001b[49m\u001b[43m(\u001b[49m\u001b[43mx0\u001b[49m\u001b[43m,\u001b[49m\u001b[43m \u001b[49m\u001b[43mX\u001b[49m\u001b[43m[\u001b[49m\u001b[38;5;241;43m0\u001b[39;49m\u001b[43m]\u001b[49m\u001b[43m)\u001b[49m, \u001b[38;5;124m'\u001b[39m\u001b[38;5;124mWrong x values\u001b[39m\u001b[38;5;124m'\u001b[39m\n\u001b[1;32m     12\u001b[0m \u001b[38;5;28;01massert\u001b[39;00m blocks[\u001b[38;5;241m0\u001b[39m] \u001b[38;5;241m==\u001b[39m \u001b[38;5;241m0\u001b[39m, \u001b[38;5;124m'\u001b[39m\u001b[38;5;124mWrong block value\u001b[39m\u001b[38;5;124m'\u001b[39m\n\u001b[1;32m     14\u001b[0m x1 \u001b[38;5;241m=\u001b[39m torch\u001b[38;5;241m.\u001b[39mload(\u001b[38;5;124m'\u001b[39m\u001b[38;5;124m./data/block0/0/1.pt\u001b[39m\u001b[38;5;124m'\u001b[39m)\n",
      "\u001b[0;31mRuntimeError\u001b[0m: BFloat16 did not match Float"
     ]
    }
   ],
   "source": [
    "def test_dataset(data: OptSimilaritiesDataset):\n",
    "    X, Y, blocks = [], [], []\n",
    "    first_sample_len = len(list(Path('./data/block0/0').iterdir())) \n",
    "    for idx in range(first_sample_len + 1):\n",
    "        x, y, block = data[idx] \n",
    "        X.append(x)\n",
    "        Y.append(y)\n",
    "        blocks.append(block)\n",
    "\n",
    "    x0 = torch.load('./data/block0/0/0.pt')\n",
    "    assert torch.allclose(x0, X[0]), 'Wrong x values'\n",
    "    assert blocks[0] == 0, 'Wrong block value'\n",
    "\n",
    "    x1 = torch.load('./data/block0/0/1.pt')\n",
    "    assert torch.allclose(x1, X[1]), 'Wrong x values'\n",
    "    assert blocks[1] == 0, 'Wrong block value'\n",
    "\n",
    "    x2 = torch.load('./data/block0/1/0.pt')\n",
    "    assert torch.allclose(x2, X[first_sample_len]), 'Wrong x values'\n",
    "    assert blocks[first_sample_len] == 0, 'Wrong block values'\n",
    "\n",
    "    y0 = F.cosine_similarity(\n",
    "        torch.load('./data/block1/0/0.pt'),\n",
    "        torch.load(f'./data/block{data.n + 1}/0/0.pt'),\n",
    "        dim=-1\n",
    "    )\n",
    "    assert torch.isclose(Y[0], y0), 'Wrong y values'\n",
    "\n",
    "    y1 = F.cosine_similarity(\n",
    "        torch.load('./data/block1/0/1.pt'),\n",
    "        torch.load(f'./data/block{data.n + 1}/0/1.pt'),\n",
    "        dim=-1\n",
    "    )\n",
    "    assert torch.isclose(Y[1], y1), 'Wrong y values'\n",
    "\n",
    "    y2 = F.cosine_similarity(\n",
    "        torch.load('./data/block1/1/0.pt'),\n",
    "        torch.load(f'./data/block{data.n + 1}/1/0.pt'),\n",
    "        dim=-1\n",
    "    )\n",
    "    assert torch.isclose(Y[first_sample_len], y2), 'Wrong y values'\n",
    "\n",
    "test_dataset(data)\n",
    "print('All tests passed')"
   ]
  },
  {
   "cell_type": "code",
   "execution_count": 7,
   "metadata": {},
   "outputs": [],
   "source": [
    "@dataclass \n",
    "class MlpConfig:\n",
    "    input_size: int\n",
    "    output_size: int\n",
    "    hidden_size: Optional[int] \n",
    "\n",
    "class LogReg(nn.Module):\n",
    "    def __init__(self, config: MlpConfig):\n",
    "        super(LogReg, self).__init__()\n",
    "        self.fc = nn.Linear(config.input_size, config.output_size)\n",
    "        self.sigmoid = nn.Sigmoid()\n",
    "    \n",
    "    def forward(self, x, *args):\n",
    "        return self.sigmoid(self.fc(x))\n",
    "\n",
    "class SimpleMLP(nn.Module):\n",
    "    def __init__(self, config: MlpConfig):\n",
    "        super(SimpleMLP, self).__init__()\n",
    "        assert config.hidden_size is not None \n",
    "\n",
    "        self.fc1 = nn.Linear(config.input_size, config.hidden_size)\n",
    "        self.relu = nn.ReLU()\n",
    "        self.fc2 = nn.Linear(config.hidden_size, config.output_size)\n",
    "        self.sigmoid = nn.Sigmoid()\n",
    "    \n",
    "    def forward(self, x, *args):\n",
    "        # ignore args just to be compatible with PerBlockMlp\n",
    "        out = self.fc1(x)\n",
    "        out = self.relu(out)\n",
    "        out = self.fc2(out)\n",
    "        out = self.sigmoid(out)\n",
    "        return out\n",
    "\n",
    "class PerBlockNet(nn.Module):\n",
    "    def __init__(self, num_blocks: int, config: MlpConfig, block_net_cls: Callable[[MlpConfig], nn.Module]):\n",
    "        super(PerBlockNet, self).__init__()\n",
    "        self.num_blocks = num_blocks\n",
    "        self.mlps = nn.ModuleList([block_net_cls(config) for _ in range(num_blocks)])\n",
    "    \n",
    "    def forward(self, x, blocks):\n",
    "        out = torch.zeros(x.size(0))\n",
    "        for idx, (xi, block) in enumerate(zip(x, blocks)):\n",
    "            out[idx] = self.mlps[block](xi)\n",
    "        \n",
    "        return out.view(-1, 1) "
   ]
  },
  {
   "cell_type": "code",
   "execution_count": 8,
   "metadata": {},
   "outputs": [],
   "source": [
    "@torch.no_grad\n",
    "def measure_loss(model, criterion, loader, device):\n",
    "    model.eval()\n",
    "    epoch_loss = 0\n",
    "    for inputs, labels, blocks in loader:\n",
    "        inputs = inputs.to(device)\n",
    "        labels = labels.to(device)\n",
    "\n",
    "        outputs = model(inputs, blocks).to(device)\n",
    "        loss = criterion(outputs, labels)\n",
    "\n",
    "        batch_size = outputs.numel()\n",
    "        epoch_loss += loss.item() * batch_size / len(loader.dataset)\n",
    "\n",
    "    return epoch_loss"
   ]
  },
  {
   "cell_type": "code",
   "execution_count": 9,
   "metadata": {},
   "outputs": [],
   "source": [
    "def train_mlp(train_loader: DataLoader, val_loader: DataLoader, \n",
    "              model: SimpleMLP, criterion: Callable[[torch.Tensor, torch.Tensor], torch.Tensor], \n",
    "              num_epochs: int, device):\n",
    "    optimizer = torch.optim.Adam(model.parameters(), lr=1e-3)\n",
    "    \n",
    "    for epoch in tqdm(range(num_epochs)):\n",
    "        model.train()  \n",
    "        epoch_loss = 0\n",
    "        for inputs, labels, blocks in train_loader:\n",
    "            inputs = inputs.to(device)\n",
    "            labels = labels.to(device)\n",
    "            blocks = blocks.to(device)\n",
    "\n",
    "            outputs = model(inputs, blocks).to(device)\n",
    "            loss = criterion(outputs, labels)\n",
    "\n",
    "            optimizer.zero_grad()\n",
    "            loss.backward()\n",
    "            optimizer.step()\n",
    "\n",
    "            batch_size = outputs.numel()\n",
    "            epoch_loss += loss.item() * batch_size / len(train_loader.dataset)\n",
    "\n",
    "        print(f'Epoch {epoch}: train_loss={epoch_loss:.4e}, val_loss={measure_loss(model, criterion, val_loader, device):.4e}') \n",
    "    \n",
    "    return model"
   ]
  },
  {
   "cell_type": "code",
   "execution_count": 13,
   "metadata": {},
   "outputs": [],
   "source": [
    "N = len(data)\n",
    "test_len = int(N * 0.3)\n",
    "train_and_val_data, test_data = random_split(data, [N - test_len, test_len])\n",
    "\n",
    "batch_size = 16\n",
    "test_loader = DataLoader(test_data, batch_size=batch_size, shuffle=False)\n",
    "\n",
    "config = MlpConfig(\n",
    "    input_size=2048,\n",
    "    hidden_size=512,\n",
    "    output_size=1\n",
    ")"
   ]
  },
  {
   "cell_type": "code",
   "execution_count": 14,
   "metadata": {},
   "outputs": [
    {
     "data": {
      "application/vnd.jupyter.widget-view+json": {
       "model_id": "a609056c78f6428f89c02cac528be5da",
       "version_major": 2,
       "version_minor": 0
      },
      "text/plain": [
       "  0%|          | 0/4 [00:00<?, ?it/s]"
      ]
     },
     "metadata": {},
     "output_type": "display_data"
    },
    {
     "name": "stdout",
     "output_type": "stream",
     "text": [
      "Epoch 0: train_loss=4.1739e-03, val_loss=2.4770e-03\n",
      "Epoch 1: train_loss=3.2800e-03, val_loss=2.4774e-03\n",
      "Epoch 2: train_loss=2.9061e-03, val_loss=2.4774e-03\n",
      "Epoch 3: train_loss=2.7195e-03, val_loss=2.4774e-03\n",
      "train_ratio=0.6, test loss = 2.5246e-03\n"
     ]
    }
   ],
   "source": [
    "for train_ratio in [0.6]: # torch.linspace(0.1, 0.6, 6):\n",
    "    train_len = int(N * train_ratio)\n",
    "    train_data, val_data = random_split(train_and_val_data, [train_len, N - train_len - test_len])\n",
    "\n",
    "    train_loader = DataLoader(train_data, batch_size=batch_size, shuffle=True)\n",
    "    val_loader = DataLoader(val_data, batch_size=batch_size, shuffle=True)\n",
    "\n",
    "    device = 'cuda'\n",
    "    model = PerBlockNet(data.per_sample_len, config, SimpleMLP) \n",
    "    model = model.to(device)\n",
    "    criterion = nn.MSELoss() \n",
    "    model = train_mlp(train_loader, val_loader, model, criterion, 4, device)\n",
    "\n",
    "    print(f'{train_ratio=}, test loss = {measure_loss(model, criterion, test_loader, device):.4e}')"
   ]
  },
  {
   "cell_type": "code",
   "execution_count": 15,
   "metadata": {},
   "outputs": [],
   "source": [
    "per_block = [[] for _ in range(data.per_sample_len)]\n",
    "\n",
    "for inputs, labels, blocks in test_loader:\n",
    "    inputs = inputs.to(device)\n",
    "    outputs = model(inputs, blocks)\n",
    "    for block, out in zip(blocks, outputs):\n",
    "        per_block[block].append(out.item())"
   ]
  },
  {
   "cell_type": "code",
   "execution_count": 16,
   "metadata": {},
   "outputs": [
    {
     "name": "stdout",
     "output_type": "stream",
     "text": [
      "0 387\n",
      "1 398\n",
      "2 417\n",
      "3 415\n",
      "4 396\n",
      "5 421\n",
      "6 389\n",
      "7 390\n",
      "8 387\n",
      "9 375\n",
      "10 379\n",
      "11 384\n",
      "12 373\n",
      "13 404\n",
      "14 395\n",
      "15 378\n"
     ]
    }
   ],
   "source": [
    "for idx, x in enumerate(per_block):\n",
    "    print(idx, len(x))"
   ]
  },
  {
   "cell_type": "code",
   "execution_count": 17,
   "metadata": {},
   "outputs": [
    {
     "data": {
      "text/plain": [
       "<seaborn.axisgrid.FacetGrid at 0x7f23cd8d3220>"
      ]
     },
     "execution_count": 17,
     "metadata": {},
     "output_type": "execute_result"
    },
    {
     "data": {
      "image/png": "[encoded data removed]",
      "text/plain": [
       "<Figure size 500x500 with 1 Axes>"
      ]
     },
     "metadata": {},
     "output_type": "display_data"
    }
   ],
   "source": [
    "import seaborn as sns\n",
    "\n",
    "sns.displot(per_block[-1])"
   ]
  },
  {
   "cell_type": "code",
   "execution_count": 18,
   "metadata": {},
   "outputs": [
    {
     "data": {
      "application/vnd.jupyter.widget-view+json": {
       "model_id": "aa016a2166804e89ba26e0e09430bbac",
       "version_major": 2,
       "version_minor": 0
      },
      "text/plain": [
       "  0%|          | 0/4 [00:00<?, ?it/s]"
      ]
     },
     "metadata": {},
     "output_type": "display_data"
    },
    {
     "name": "stdout",
     "output_type": "stream",
     "text": [
      "Epoch 0: train_loss=3.1015e-03, val_loss=2.4774e-03\n",
      "Epoch 1: train_loss=2.7195e-03, val_loss=2.4774e-03\n",
      "Epoch 2: train_loss=2.7195e-03, val_loss=2.4774e-03\n",
      "Epoch 3: train_loss=2.7195e-03, val_loss=2.4774e-03\n"
     ]
    },
    {
     "data": {
      "text/plain": [
       "0.0025245621240562732"
      ]
     },
     "execution_count": 18,
     "metadata": {},
     "output_type": "execute_result"
    }
   ],
   "source": [
    "simple_model = SimpleMLP(config).to(device)\n",
    "train_mlp(train_loader, val_loader, simple_model, criterion, 4, device)\n",
    "measure_loss(simple_model, criterion, test_loader, device)"
   ]
  },
  {
   "cell_type": "code",
   "execution_count": 19,
   "metadata": {},
   "outputs": [],
   "source": [
    "per_block_simple = [[] for _ in range(data.per_sample_len)]\n",
    "\n",
    "for inputs, labels, blocks in train_loader:\n",
    "    inputs = inputs.to(device)\n",
    "    outputs = simple_model(inputs, blocks)\n",
    "    for block, out in zip(blocks, outputs):\n",
    "        per_block_simple[block].append(out.item())"
   ]
  },
  {
   "cell_type": "code",
   "execution_count": 20,
   "metadata": {},
   "outputs": [
    {
     "data": {
      "text/plain": [
       "<seaborn.axisgrid.FacetGrid at 0x7f237f501390>"
      ]
     },
     "execution_count": 20,
     "metadata": {},
     "output_type": "execute_result"
    },
    {
     "data": {
      "image/png": "[encoded data removed]",
      "text/plain": [
       "<Figure size 500x500 with 1 Axes>"
      ]
     },
     "metadata": {},
     "output_type": "display_data"
    }
   ],
   "source": [
    "sns.displot(per_block_simple[-1])"
   ]
  },
  {
   "cell_type": "code",
   "execution_count": 21,
   "metadata": {},
   "outputs": [],
   "source": [
    "per_block_actual = [[] for _ in range(data.per_sample_len)]\n",
    "for _, y, blocks in train_loader:\n",
    "    for block, sim in zip(blocks, y):\n",
    "        per_block_actual[block].append(sim.item())"
   ]
  },
  {
   "cell_type": "code",
   "execution_count": 22,
   "metadata": {},
   "outputs": [
    {
     "data": {
      "text/plain": [
       "<seaborn.axisgrid.FacetGrid at 0x7f23ce10a6e0>"
      ]
     },
     "execution_count": 22,
     "metadata": {},
     "output_type": "execute_result"
    },
    {
     "data": {
      "image/png": "[encoded data removed]",
      "text/plain": [
       "<Figure size 558.875x500 with 1 Axes>"
      ]
     },
     "metadata": {},
     "output_type": "display_data"
    }
   ],
   "source": [
    "sns.displot(per_block_actual[:5]) "
   ]
  },
  {
   "cell_type": "code",
   "execution_count": 23,
   "metadata": {},
   "outputs": [
    {
     "data": {
      "text/plain": [
       "<seaborn.axisgrid.FacetGrid at 0x7f2376fb9660>"
      ]
     },
     "execution_count": 23,
     "metadata": {},
     "output_type": "execute_result"
    },
    {
     "data": {
      "image/png": "[encoded data removed]",
      "text/plain": [
       "<Figure size 558.875x500 with 1 Axes>"
      ]
     },
     "metadata": {},
     "output_type": "display_data"
    }
   ],
   "source": [
    "sns.displot(per_block_actual[-5:])"
   ]
  },
  {
   "cell_type": "code",
   "execution_count": 35,
   "metadata": {},
   "outputs": [
    {
     "name": "stdout",
     "output_type": "stream",
     "text": [
      "0 97.0 1.0\n",
      "1 97.6 2.0\n",
      "2 98.0 0.4\n",
      "3 98.6 0.3\n",
      "4 98.7 0.4\n",
      "5 98.7 0.1\n",
      "6 99.1 0.1\n",
      "7 99.2 0.1\n",
      "8 99.1 0.1\n",
      "9 99.0 0.1\n",
      "10 98.3 0.8\n",
      "11 98.2 0.5\n",
      "12 96.6 1.2\n",
      "13 94.5 5.6\n",
      "14 95.3 3.2\n",
      "15 83.2 28.2\n"
     ]
    }
   ],
   "source": [
    "for idx, x in enumerate(per_block_actual):\n",
    "    t = torch.tensor(x) * 100\n",
    "    print(idx, f'{t.mean().item():.1f}', f'{t.var():.1f}') "
   ]
  },
  {
   "cell_type": "code",
   "execution_count": 37,
   "metadata": {},
   "outputs": [
    {
     "data": {
      "text/plain": [
       "<seaborn.axisgrid.FacetGrid at 0x7f2376f2c4c0>"
      ]
     },
     "execution_count": 37,
     "metadata": {},
     "output_type": "execute_result"
    },
    {
     "data": {
      "image/png": "[encoded data removed]",
      "text/plain": [
       "<Figure size 500x500 with 1 Axes>"
      ]
     },
     "metadata": {},
     "output_type": "display_data"
    }
   ],
   "source": [
    "sns.displot(per_block_actual[13])"
   ]
  },
  {
   "cell_type": "code",
   "execution_count": 27,
   "metadata": {},
   "outputs": [
    {
     "data": {
      "application/vnd.jupyter.widget-view+json": {
       "model_id": "27f7d6295ef04515ad1794046b447110",
       "version_major": 2,
       "version_minor": 0
      },
      "text/plain": [
       "  0%|          | 0/4 [00:00<?, ?it/s]"
      ]
     },
     "metadata": {},
     "output_type": "display_data"
    },
    {
     "name": "stdout",
     "output_type": "stream",
     "text": [
      "Epoch 0: train_loss=7.7576e-03, val_loss=2.5095e-03\n",
      "Epoch 1: train_loss=2.6441e-03, val_loss=2.3763e-03\n",
      "Epoch 2: train_loss=2.6721e-03, val_loss=2.3831e-03\n",
      "Epoch 3: train_loss=2.6813e-03, val_loss=2.4462e-03\n"
     ]
    },
    {
     "data": {
      "text/plain": [
       "0.002483143728191173"
      ]
     },
     "execution_count": 27,
     "metadata": {},
     "output_type": "execute_result"
    }
   ],
   "source": [
    "logreg = LogReg(config).to(device)\n",
    "train_mlp(train_loader, val_loader, logreg, criterion, 4, device)\n",
    "measure_loss(logreg, criterion, test_loader, device)"
   ]
  },
  {
   "cell_type": "code",
   "execution_count": 28,
   "metadata": {},
   "outputs": [
    {
     "data": {
      "application/vnd.jupyter.widget-view+json": {
       "model_id": "888ff25cc3f24a38a105f7fe909581b0",
       "version_major": 2,
       "version_minor": 0
      },
      "text/plain": [
       "  0%|          | 0/4 [00:00<?, ?it/s]"
      ]
     },
     "metadata": {},
     "output_type": "display_data"
    },
    {
     "name": "stdout",
     "output_type": "stream",
     "text": [
      "Epoch 0: train_loss=8.1841e-03, val_loss=2.4715e-03\n",
      "Epoch 1: train_loss=2.6995e-03, val_loss=2.3730e-03\n",
      "Epoch 2: train_loss=2.6456e-03, val_loss=2.3817e-03\n",
      "Epoch 3: train_loss=2.6765e-03, val_loss=2.3805e-03\n"
     ]
    },
    {
     "data": {
      "text/plain": [
       "0.002426298864728786"
      ]
     },
     "execution_count": 28,
     "metadata": {},
     "output_type": "execute_result"
    }
   ],
   "source": [
    "logreg_better = PerBlockNet(data.per_sample_len, config, LogReg).to(device)\n",
    "train_mlp(train_loader, val_loader, logreg_better, criterion, 4, device)\n",
    "measure_loss(logreg_better, criterion, test_loader, device)"
   ]
  },
  {
   "cell_type": "code",
   "execution_count": null,
   "metadata": {},
   "outputs": [],
   "source": []
  },
  {
   "cell_type": "code",
   "execution_count": 21,
   "metadata": {},
   "outputs": [],
   "source": []
  },
  {
   "cell_type": "code",
   "execution_count": null,
   "metadata": {},
   "outputs": [],
   "source": []
  }
 ],
 "metadata": {
  "kernelspec": {
   "display_name": "nlp",
   "language": "python",
   "name": "python3"
  },
  "language_info": {
   "codemirror_mode": {
    "name": "ipython",
    "version": 3
   },
   "file_extension": ".py",
   "mimetype": "text/x-python",
   "name": "python",
   "nbconvert_exporter": "python",
   "pygments_lexer": "ipython3",
   "version": "3.10.13"
  }
 },
 "nbformat": 4,
 "nbformat_minor": 2
}
