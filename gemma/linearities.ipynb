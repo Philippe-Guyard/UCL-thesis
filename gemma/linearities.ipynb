{
 "cells": [
  {
   "cell_type": "code",
   "execution_count": 1,
   "metadata": {},
   "outputs": [],
   "source": [
    "from pathlib import Path\n",
    "from typing import Callable, Optional\n",
    "from dataclasses import dataclass\n",
    "\n",
    "from opt_sim_dataset import ConsecutiveOutputsDataset \n",
    "\n",
    "import torch\n",
    "import torch.nn as nn\n",
    "import torch.nn.functional as F \n",
    "from torch.utils.data import DataLoader, random_split\n",
    "\n",
    "from tqdm.notebook import tqdm"
   ]
  },
  {
   "cell_type": "code",
   "execution_count": 9,
   "metadata": {},
   "outputs": [],
   "source": [
    "def get_est_svd(X, Y):\n",
    "    \"\"\"\n",
    "    X -- torch tensor with shape [n_samples, dim]\n",
    "    Y -- torch tensor with shape [n_samples, dim]\n",
    "\n",
    "    Approximates Y matrix with linear transformation Y = XA\n",
    "    \"\"\"\n",
    "    U, S, Vh = torch.linalg.svd(X, full_matrices=False)\n",
    "    A_estimation = Vh.T * (1 / S)[None, ...] @ U.T @ Y # Y=XA\n",
    "    Y_est =  X @ A_estimation\n",
    "    return Y_est\n",
    "\n",
    "def compute_linearity_score(x, y):\n",
    "    \"\"\"\n",
    "    x -- torch tensor with shape [n_samples, dim]\n",
    "    y -- torch tensor with shape [n_samples, dim]\n",
    "    \"\"\"\n",
    "    with torch.no_grad(): \n",
    "        X = x - x.mean(dim=0, keepdim=True)\n",
    "        Y = y - y.mean(dim=0, keepdim=True)\n",
    "    \n",
    "        X = X / X.norm()\n",
    "        Y = Y / Y.norm()\n",
    "\n",
    "        Y_estimation = get_est_svd(X, Y)\n",
    "    \n",
    "        y_error = (Y_estimation - Y).square().sum()\n",
    "        sim = float(1 - y_error)\n",
    "    return sim"
   ]
  },
  {
   "cell_type": "code",
   "execution_count": 20,
   "metadata": {},
   "outputs": [
    {
     "data": {
      "text/plain": [
       "0.999904215335846"
      ]
     },
     "execution_count": 20,
     "metadata": {},
     "output_type": "execute_result"
    }
   ],
   "source": [
    "tmp_x = torch.randn((1000, 2048))\n",
    "A = torch.randn((2048, 2048))\n",
    "tmp_y = tmp_x @ A\n",
    "compute_linearity_score(tmp_x, tmp_y)  "
   ]
  },
  {
   "cell_type": "code",
   "execution_count": 33,
   "metadata": {},
   "outputs": [
    {
     "data": {
      "text/plain": [
       "0.6263377070426941"
      ]
     },
     "execution_count": 33,
     "metadata": {},
     "output_type": "execute_result"
    }
   ],
   "source": [
    "tmp_x = torch.randn((10_000, 2048))\n",
    "tmp_y = torch.cos(tmp_x + torch.pi) + torch.tanh(tmp_x) \n",
    "compute_linearity_score(tmp_x, tmp_y)  "
   ]
  },
  {
   "cell_type": "code",
   "execution_count": 29,
   "metadata": {},
   "outputs": [
    {
     "data": {
      "text/plain": [
       "0.20304471254348755"
      ]
     },
     "execution_count": 29,
     "metadata": {},
     "output_type": "execute_result"
    }
   ],
   "source": [
    "k_samples = 10_000\n",
    "tmp_x = torch.randn((k_samples, 2048))\n",
    "tmp_y = torch.randn((k_samples, 2048))\n",
    "compute_linearity_score(tmp_x, tmp_y)"
   ]
  },
  {
   "cell_type": "code",
   "execution_count": 10,
   "metadata": {},
   "outputs": [],
   "source": [
    "data = ConsecutiveOutputsDataset(Path('./data'), 18, 26, 0) "
   ]
  },
  {
   "cell_type": "code",
   "execution_count": 11,
   "metadata": {},
   "outputs": [],
   "source": [
    "block_embeddings = [[] for _ in range(data.num_layers)]\n",
    "for x, v1, v2, blocks in data:\n",
    "    block = blocks[0]\n",
    "    block_embeddings[block].append(x)\n",
    "    if block == data.num_layers - 2:\n",
    "        block_embeddings[block + 1].append(v1)"
   ]
  },
  {
   "cell_type": "code",
   "execution_count": 12,
   "metadata": {},
   "outputs": [],
   "source": [
    "block_embeddings = [torch.cat(x).reshape(-1, 2048) for x in block_embeddings]"
   ]
  },
  {
   "cell_type": "code",
   "execution_count": 15,
   "metadata": {},
   "outputs": [
    {
     "data": {
      "text/plain": [
       "torch.Size([1310, 2048])"
      ]
     },
     "execution_count": 15,
     "metadata": {},
     "output_type": "execute_result"
    }
   ],
   "source": [
    "block_embeddings[0].shape"
   ]
  },
  {
   "cell_type": "code",
   "execution_count": 35,
   "metadata": {},
   "outputs": [
    {
     "name": "stdout",
     "output_type": "stream",
     "text": [
      "0 -25754088.0\n",
      "1 -993966.75\n",
      "2 -23905.2734375\n",
      "3 -49128.734375\n",
      "4 -112728.171875\n",
      "5 -50275.7890625\n",
      "6 -22190228.0\n",
      "7 -32703.24609375\n",
      "8 -186954336.0\n",
      "9 -33592.859375\n",
      "10 -2692048.25\n",
      "11 -35576820.0\n",
      "12 -112863.5234375\n",
      "13 -292085.625\n",
      "14 -22233.93359375\n",
      "15 -19141.375\n",
      "16 -21016.76171875\n"
     ]
    }
   ],
   "source": [
    "k = 1\n",
    "for idx in range(data.num_layers - k):\n",
    "    print(idx, compute_linearity_score(block_embeddings[idx], block_embeddings[idx + k]))"
   ]
  },
  {
   "cell_type": "code",
   "execution_count": 36,
   "metadata": {},
   "outputs": [],
   "source": [
    "def get_linearity_dist(block1, block2, batch_size=2):\n",
    "    n_samples = block1.size(0)\n",
    "    assert n_samples == block2.size(0)\n",
    "    linearities = torch.zeros(n_samples // batch_size)\n",
    "    for idx in range(0, n_samples // batch_size):\n",
    "        indices = torch.arange(idx * batch_size, (idx + 1) * batch_size)\n",
    "        batch1 = block1[indices].view(batch_size, -1)\n",
    "        batch2 = block2[indices].view(batch_size, -1)\n",
    "        linearities[idx] = compute_linearity_score(batch1, batch2)\n",
    "    \n",
    "    return linearities"
   ]
  },
  {
   "cell_type": "code",
   "execution_count": 37,
   "metadata": {},
   "outputs": [
    {
     "data": {
      "text/plain": [
       "<seaborn.axisgrid.FacetGrid at 0x7f8cb0df21d0>"
      ]
     },
     "execution_count": 37,
     "metadata": {},
     "output_type": "execute_result"
    },
    {
     "data": {
      "image/png": "[encoded data removed]",
      "text/plain": [
       "<Figure size 500x500 with 1 Axes>"
      ]
     },
     "metadata": {},
     "output_type": "display_data"
    }
   ],
   "source": [
    "import seaborn as sns\n",
    "\n",
    "sns.displot(get_linearity_dist(block_embeddings[11], block_embeddings[12], batch_size=128))"
   ]
  },
  {
   "cell_type": "code",
   "execution_count": 38,
   "metadata": {},
   "outputs": [],
   "source": [
    "class SimpleAutoEncoder(nn.Module):\n",
    "    def __init__(self, embed_dim: int, hidden_size: int):\n",
    "        super(SimpleAutoEncoder, self).__init__()\n",
    "\n",
    "        self.fc1 = nn.Linear(embed_dim, hidden_size)\n",
    "        self.relu = nn.ReLU()\n",
    "        self.fc2 = nn.Linear(embed_dim, hidden_size)\n",
    "    \n",
    "    def forward(self, x):\n",
    "        return self.fc2(self.relu(self.fc1(x)))"
   ]
  },
  {
   "cell_type": "code",
   "execution_count": 42,
   "metadata": {},
   "outputs": [],
   "source": [
    "N = len(data)\n",
    "train_len = int(N * 0.7)\n",
    "train_data, test_data = random_split(data, lengths=[train_len, N - train_len])\n",
    "train_loader = DataLoader(train_data, batch_size=16, shuffle=True)\n",
    "test_loader = DataLoader(test_data, batch_size=16, shuffle=False)\n",
    "tgt_block = 7"
   ]
  },
  {
   "cell_type": "code",
   "execution_count": 47,
   "metadata": {},
   "outputs": [
    {
     "name": "stdout",
     "output_type": "stream",
     "text": [
      "epoch=0, Train loss: 4.4106e-01, Test loss 3.4074e-01\n",
      "epoch=1, Train loss: 4.2979e-01, Test loss 1.1486e+00\n",
      "epoch=2, Train loss: 3.9888e-01, Test loss 2.3597e-01\n",
      "epoch=3, Train loss: 2.3728e-01, Test loss 2.4442e-01\n"
     ]
    },
    {
     "ename": "KeyboardInterrupt",
     "evalue": "",
     "output_type": "error",
     "traceback": [
      "\u001b[0;31m---------------------------------------------------------------------------\u001b[0m",
      "\u001b[0;31mKeyboardInterrupt\u001b[0m                         Traceback (most recent call last)",
      "Cell \u001b[0;32mIn[47], line 20\u001b[0m\n\u001b[1;32m     17\u001b[0m     loss\u001b[38;5;241m.\u001b[39mbackward()\n\u001b[1;32m     18\u001b[0m     optimizer\u001b[38;5;241m.\u001b[39mstep()\n\u001b[0;32m---> 20\u001b[0m     epoch_loss \u001b[38;5;241m+\u001b[39m\u001b[38;5;241m=\u001b[39m \u001b[43mloss\u001b[49m\u001b[38;5;241;43m.\u001b[39;49m\u001b[43mitem\u001b[49m\u001b[43m(\u001b[49m\u001b[43m)\u001b[49m\n\u001b[1;32m     22\u001b[0m test_loss \u001b[38;5;241m=\u001b[39m \u001b[38;5;241m0\u001b[39m\n\u001b[1;32m     23\u001b[0m model\u001b[38;5;241m.\u001b[39meval()\n",
      "\u001b[0;31mKeyboardInterrupt\u001b[0m: "
     ]
    }
   ],
   "source": [
    "criterion = nn.MSELoss()\n",
    "# model = SimpleAutoEncoder(768, 768).to('cuda')\n",
    "model = nn.Linear(2048, 2048).to('cuda')\n",
    "optimizer = torch.optim.AdamW(model.parameters(), lr=1e-3)\n",
    "for epoch in range(7):\n",
    "    epoch_loss = 0\n",
    "    model.train()\n",
    "    for x, v1, v2, blocks in train_loader:\n",
    "        x_blocks = blocks[:, 0]\n",
    "        indices = x_blocks == tgt_block \n",
    "        if indices.sum() == 0:\n",
    "            continue\n",
    "        \n",
    "        optimizer.zero_grad()\n",
    "        outputs = model(x[indices])\n",
    "        loss = criterion(outputs , v1[indices])\n",
    "        loss.backward()\n",
    "        optimizer.step()\n",
    "\n",
    "        epoch_loss += loss.item()\n",
    "    \n",
    "    test_loss = 0\n",
    "    model.eval()\n",
    "    for x, v1, v2, blocks in test_loader:\n",
    "        x_blocks = blocks[:, 0]\n",
    "        indices = x_blocks == tgt_block\n",
    "        if indices.sum() == 0:\n",
    "            continue\n",
    "    \n",
    "        outputs = model(x[indices])\n",
    "        loss = criterion(outputs, v1[indices])\n",
    "        test_loss += loss.item()\n",
    "\n",
    "    print(f'{epoch=}, Train loss: {epoch_loss / len(train_data):.4e}, Test loss {test_loss / len(test_data):.4e}')"
   ]
  },
  {
   "cell_type": "code",
   "execution_count": 48,
   "metadata": {},
   "outputs": [
    {
     "name": "stdout",
     "output_type": "stream",
     "text": [
      "0 tensor(225.2736, device='cuda:0')\n",
      "1 tensor(175.2841, device='cuda:0')\n",
      "2 tensor(168.0583, device='cuda:0')\n",
      "3 tensor(161.6372, device='cuda:0')\n",
      "4 tensor(159.1138, device='cuda:0')\n",
      "5 tensor(159.2699, device='cuda:0')\n",
      "6 tensor(158.0076, device='cuda:0')\n",
      "7 tensor(164.0233, device='cuda:0')\n",
      "8 tensor(172.5543, device='cuda:0')\n",
      "9 tensor(178.2345, device='cuda:0')\n",
      "10 tensor(185.1689, device='cuda:0')\n",
      "11 tensor(193.1785, device='cuda:0')\n",
      "12 tensor(195.2941, device='cuda:0')\n",
      "13 tensor(221.1150, device='cuda:0')\n",
      "14 tensor(254.6856, device='cuda:0')\n",
      "15 tensor(318.5261, device='cuda:0')\n",
      "16 tensor(398.3754, device='cuda:0')\n",
      "17 tensor(547.7927, device='cuda:0')\n"
     ]
    }
   ],
   "source": [
    "for idx in range(len(block_embeddings)):\n",
    "    print(idx, block_embeddings[idx].norm(dim=-1).mean()) "
   ]
  },
  {
   "cell_type": "code",
   "execution_count": 51,
   "metadata": {},
   "outputs": [
    {
     "name": "stdout",
     "output_type": "stream",
     "text": [
      "0 tensor(0.2451, device='cuda:0')\n",
      "1 tensor(0.9698, device='cuda:0')\n",
      "2 tensor(0.9758, device='cuda:0')\n",
      "3 tensor(0.9795, device='cuda:0')\n",
      "4 tensor(0.9859, device='cuda:0')\n",
      "5 tensor(0.9867, device='cuda:0')\n",
      "6 tensor(0.9873, device='cuda:0')\n",
      "7 tensor(0.9912, device='cuda:0')\n",
      "8 tensor(0.9924, device='cuda:0')\n",
      "9 tensor(0.9913, device='cuda:0')\n",
      "10 tensor(0.9904, device='cuda:0')\n",
      "11 tensor(0.9826, device='cuda:0')\n",
      "12 tensor(0.9817, device='cuda:0')\n",
      "13 tensor(0.9664, device='cuda:0')\n",
      "14 tensor(0.9456, device='cuda:0')\n",
      "15 tensor(0.9530, device='cuda:0')\n",
      "16 tensor(0.8322, device='cuda:0')\n"
     ]
    }
   ],
   "source": [
    "for idx in range(len(block_embeddings) - 1):\n",
    "    print(idx, F.cosine_similarity(block_embeddings[idx], block_embeddings[idx + 1], dim=-1).mean())"
   ]
  },
  {
   "cell_type": "code",
   "execution_count": null,
   "metadata": {},
   "outputs": [],
   "source": []
  }
 ],
 "metadata": {
  "kernelspec": {
   "display_name": "nlp",
   "language": "python",
   "name": "python3"
  },
  "language_info": {
   "codemirror_mode": {
    "name": "ipython",
    "version": 3
   },
   "file_extension": ".py",
   "mimetype": "text/x-python",
   "name": "python",
   "nbconvert_exporter": "python",
   "pygments_lexer": "ipython3",
   "version": "3.10.13"
  }
 },
 "nbformat": 4,
 "nbformat_minor": 2
}
