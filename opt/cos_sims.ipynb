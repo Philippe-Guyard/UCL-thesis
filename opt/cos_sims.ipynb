{
 "cells": [
  {
   "cell_type": "code",
   "execution_count": 1,
   "metadata": {},
   "outputs": [],
   "source": [
    "from pathlib import Path\n",
    "import torch \n",
    "from dataclasses import dataclass\n",
    "import torch.nn.functional as F "
   ]
  },
  {
   "cell_type": "code",
   "execution_count": 2,
   "metadata": {},
   "outputs": [],
   "source": [
    "@dataclass\n",
    "class TensorFile:\n",
    "    block_idx: int\n",
    "    sample_idx: int\n",
    "    token_idx: int \n",
    "\n",
    "    MAX_BLOCKS = 12\n",
    "    DATA_ROOT = Path('./data')\n",
    "\n",
    "    @property\n",
    "    def path(self):\n",
    "        return (\n",
    "            TensorFile.DATA_ROOT\n",
    "            .joinpath(f'block{self.block_idx}')\n",
    "            .joinpath(str(self.sample_idx))\n",
    "            .joinpath(f'{self.token_idx}.pt')\n",
    "        )\n",
    "\n",
    "    def load(self):\n",
    "        values = torch.load(self.path)\n",
    "        assert values.shape == (1, 1, 768)\n",
    "        return values.reshape(-1)\n",
    "\n",
    "    def next_layer(self):\n",
    "        if self.block_idx == TensorFile.MAX_BLOCKS - 1:\n",
    "            return None\n",
    "\n",
    "        return TensorFile(block_idx=self.block_idx + 1, sample_idx=self.sample_idx, token_idx=self.token_idx) \n",
    "    \n",
    "    def next_token(self):\n",
    "        ret = TensorFile(block_idx=self.block_idx, sample_idx=self.sample_idx, token_idx=self.token_idx + 1)\n",
    "        return ret if ret.path.exists() else None "
   ]
  },
  {
   "cell_type": "code",
   "execution_count": 3,
   "metadata": {},
   "outputs": [],
   "source": [
    "def load_token(sample_idx: int, token_idx: int):\n",
    "    cur_file = TensorFile(block_idx=0, sample_idx=sample_idx, token_idx=token_idx)\n",
    "    tensors = []\n",
    "    while cur_file is not None:\n",
    "        tensors.append(cur_file.load().reshape(1, -1))\n",
    "        cur_file = cur_file.next_layer() \n",
    "\n",
    "    return torch.cat(tensors)"
   ]
  },
  {
   "cell_type": "code",
   "execution_count": 4,
   "metadata": {},
   "outputs": [
    {
     "ename": "FileNotFoundError",
     "evalue": "[Errno 2] No such file or directory: 'data/block0/27/14.pt'",
     "output_type": "error",
     "traceback": [
      "\u001b[0;31m---------------------------------------------------------------------------\u001b[0m",
      "\u001b[0;31mFileNotFoundError\u001b[0m                         Traceback (most recent call last)",
      "Cell \u001b[0;32mIn[4], line 7\u001b[0m\n\u001b[1;32m      5\u001b[0m all_consecutive \u001b[38;5;241m=\u001b[39m []\n\u001b[1;32m      6\u001b[0m \u001b[38;5;28;01mfor\u001b[39;00m sample_idx \u001b[38;5;129;01min\u001b[39;00m \u001b[38;5;28mrange\u001b[39m(num_samples):\n\u001b[0;32m----> 7\u001b[0m     sample \u001b[38;5;241m=\u001b[39m \u001b[43mload_token\u001b[49m\u001b[43m(\u001b[49m\u001b[43msample_idx\u001b[49m\u001b[43m,\u001b[49m\u001b[43m \u001b[49m\u001b[43mtoken_file\u001b[49m\u001b[38;5;241;43m.\u001b[39;49m\u001b[43mtoken_idx\u001b[49m\u001b[43m)\u001b[49m\n\u001b[1;32m      8\u001b[0m     all_consecutive\u001b[38;5;241m.\u001b[39mappend(sample\u001b[38;5;241m.\u001b[39munsqueeze(\u001b[38;5;241m0\u001b[39m))\n\u001b[1;32m     10\u001b[0m all_consecutive \u001b[38;5;241m=\u001b[39m torch\u001b[38;5;241m.\u001b[39mcat(all_consecutive, dim\u001b[38;5;241m=\u001b[39m\u001b[38;5;241m0\u001b[39m)\n",
      "Cell \u001b[0;32mIn[3], line 5\u001b[0m, in \u001b[0;36mload_token\u001b[0;34m(sample_idx, token_idx)\u001b[0m\n\u001b[1;32m      3\u001b[0m tensors \u001b[38;5;241m=\u001b[39m []\n\u001b[1;32m      4\u001b[0m \u001b[38;5;28;01mwhile\u001b[39;00m cur_file \u001b[38;5;129;01mis\u001b[39;00m \u001b[38;5;129;01mnot\u001b[39;00m \u001b[38;5;28;01mNone\u001b[39;00m:\n\u001b[0;32m----> 5\u001b[0m     tensors\u001b[38;5;241m.\u001b[39mappend(\u001b[43mcur_file\u001b[49m\u001b[38;5;241;43m.\u001b[39;49m\u001b[43mload\u001b[49m\u001b[43m(\u001b[49m\u001b[43m)\u001b[49m\u001b[38;5;241m.\u001b[39mreshape(\u001b[38;5;241m1\u001b[39m, \u001b[38;5;241m-\u001b[39m\u001b[38;5;241m1\u001b[39m))\n\u001b[1;32m      6\u001b[0m     cur_file \u001b[38;5;241m=\u001b[39m cur_file\u001b[38;5;241m.\u001b[39mnext_layer() \n\u001b[1;32m      8\u001b[0m \u001b[38;5;28;01mreturn\u001b[39;00m torch\u001b[38;5;241m.\u001b[39mcat(tensors)\n",
      "Cell \u001b[0;32mIn[2], line 20\u001b[0m, in \u001b[0;36mTensorFile.load\u001b[0;34m(self)\u001b[0m\n\u001b[1;32m     19\u001b[0m \u001b[38;5;28;01mdef\u001b[39;00m \u001b[38;5;21mload\u001b[39m(\u001b[38;5;28mself\u001b[39m):\n\u001b[0;32m---> 20\u001b[0m     values \u001b[38;5;241m=\u001b[39m \u001b[43mtorch\u001b[49m\u001b[38;5;241;43m.\u001b[39;49m\u001b[43mload\u001b[49m\u001b[43m(\u001b[49m\u001b[38;5;28;43mself\u001b[39;49m\u001b[38;5;241;43m.\u001b[39;49m\u001b[43mpath\u001b[49m\u001b[43m)\u001b[49m\n\u001b[1;32m     21\u001b[0m     \u001b[38;5;28;01massert\u001b[39;00m values\u001b[38;5;241m.\u001b[39mshape \u001b[38;5;241m==\u001b[39m (\u001b[38;5;241m1\u001b[39m, \u001b[38;5;241m1\u001b[39m, \u001b[38;5;241m768\u001b[39m)\n\u001b[1;32m     22\u001b[0m     \u001b[38;5;28;01mreturn\u001b[39;00m values\u001b[38;5;241m.\u001b[39mreshape(\u001b[38;5;241m-\u001b[39m\u001b[38;5;241m1\u001b[39m)\n",
      "File \u001b[0;32m~/anaconda3/envs/nlp/lib/python3.10/site-packages/torch/serialization.py:998\u001b[0m, in \u001b[0;36mload\u001b[0;34m(f, map_location, pickle_module, weights_only, mmap, **pickle_load_args)\u001b[0m\n\u001b[1;32m    995\u001b[0m \u001b[38;5;28;01mif\u001b[39;00m \u001b[38;5;124m'\u001b[39m\u001b[38;5;124mencoding\u001b[39m\u001b[38;5;124m'\u001b[39m \u001b[38;5;129;01mnot\u001b[39;00m \u001b[38;5;129;01min\u001b[39;00m pickle_load_args\u001b[38;5;241m.\u001b[39mkeys():\n\u001b[1;32m    996\u001b[0m     pickle_load_args[\u001b[38;5;124m'\u001b[39m\u001b[38;5;124mencoding\u001b[39m\u001b[38;5;124m'\u001b[39m] \u001b[38;5;241m=\u001b[39m \u001b[38;5;124m'\u001b[39m\u001b[38;5;124mutf-8\u001b[39m\u001b[38;5;124m'\u001b[39m\n\u001b[0;32m--> 998\u001b[0m \u001b[38;5;28;01mwith\u001b[39;00m \u001b[43m_open_file_like\u001b[49m\u001b[43m(\u001b[49m\u001b[43mf\u001b[49m\u001b[43m,\u001b[49m\u001b[43m \u001b[49m\u001b[38;5;124;43m'\u001b[39;49m\u001b[38;5;124;43mrb\u001b[39;49m\u001b[38;5;124;43m'\u001b[39;49m\u001b[43m)\u001b[49m \u001b[38;5;28;01mas\u001b[39;00m opened_file:\n\u001b[1;32m    999\u001b[0m     \u001b[38;5;28;01mif\u001b[39;00m _is_zipfile(opened_file):\n\u001b[1;32m   1000\u001b[0m         \u001b[38;5;66;03m# The zipfile reader is going to advance the current file position.\u001b[39;00m\n\u001b[1;32m   1001\u001b[0m         \u001b[38;5;66;03m# If we want to actually tail call to torch.jit.load, we need to\u001b[39;00m\n\u001b[1;32m   1002\u001b[0m         \u001b[38;5;66;03m# reset back to the original position.\u001b[39;00m\n\u001b[1;32m   1003\u001b[0m         orig_position \u001b[38;5;241m=\u001b[39m opened_file\u001b[38;5;241m.\u001b[39mtell()\n",
      "File \u001b[0;32m~/anaconda3/envs/nlp/lib/python3.10/site-packages/torch/serialization.py:445\u001b[0m, in \u001b[0;36m_open_file_like\u001b[0;34m(name_or_buffer, mode)\u001b[0m\n\u001b[1;32m    443\u001b[0m \u001b[38;5;28;01mdef\u001b[39;00m \u001b[38;5;21m_open_file_like\u001b[39m(name_or_buffer, mode):\n\u001b[1;32m    444\u001b[0m     \u001b[38;5;28;01mif\u001b[39;00m _is_path(name_or_buffer):\n\u001b[0;32m--> 445\u001b[0m         \u001b[38;5;28;01mreturn\u001b[39;00m \u001b[43m_open_file\u001b[49m\u001b[43m(\u001b[49m\u001b[43mname_or_buffer\u001b[49m\u001b[43m,\u001b[49m\u001b[43m \u001b[49m\u001b[43mmode\u001b[49m\u001b[43m)\u001b[49m\n\u001b[1;32m    446\u001b[0m     \u001b[38;5;28;01melse\u001b[39;00m:\n\u001b[1;32m    447\u001b[0m         \u001b[38;5;28;01mif\u001b[39;00m \u001b[38;5;124m'\u001b[39m\u001b[38;5;124mw\u001b[39m\u001b[38;5;124m'\u001b[39m \u001b[38;5;129;01min\u001b[39;00m mode:\n",
      "File \u001b[0;32m~/anaconda3/envs/nlp/lib/python3.10/site-packages/torch/serialization.py:426\u001b[0m, in \u001b[0;36m_open_file.__init__\u001b[0;34m(self, name, mode)\u001b[0m\n\u001b[1;32m    425\u001b[0m \u001b[38;5;28;01mdef\u001b[39;00m \u001b[38;5;21m__init__\u001b[39m(\u001b[38;5;28mself\u001b[39m, name, mode):\n\u001b[0;32m--> 426\u001b[0m     \u001b[38;5;28msuper\u001b[39m()\u001b[38;5;241m.\u001b[39m\u001b[38;5;21m__init__\u001b[39m(\u001b[38;5;28;43mopen\u001b[39;49m\u001b[43m(\u001b[49m\u001b[43mname\u001b[49m\u001b[43m,\u001b[49m\u001b[43m \u001b[49m\u001b[43mmode\u001b[49m\u001b[43m)\u001b[49m)\n",
      "\u001b[0;31mFileNotFoundError\u001b[0m: [Errno 2] No such file or directory: 'data/block0/27/14.pt'"
     ]
    }
   ],
   "source": [
    "token_file = TensorFile(block_idx=0, sample_idx=0, token_idx=0)\n",
    "lst = []\n",
    "num_samples = 50\n",
    "while token_file is not None:\n",
    "    all_consecutive = []\n",
    "    for sample_idx in range(num_samples):\n",
    "        sample = load_token(sample_idx, token_file.token_idx)\n",
    "        all_consecutive.append(sample.unsqueeze(0))\n",
    "\n",
    "    all_consecutive = torch.cat(all_consecutive, dim=0)\n",
    "    lst.append(all_consecutive.unsqueeze(0))\n",
    "    token_file = token_file.next_token()\n",
    "\n",
    "lst = torch.cat(lst, dim=0)"
   ]
  },
  {
   "cell_type": "code",
   "execution_count": null,
   "metadata": {},
   "outputs": [
    {
     "data": {
      "text/plain": [
       "torch.Size([9, 50, 12, 768])"
      ]
     },
     "execution_count": 5,
     "metadata": {},
     "output_type": "execute_result"
    }
   ],
   "source": [
    "lst.shape"
   ]
  },
  {
   "cell_type": "code",
   "execution_count": null,
   "metadata": {},
   "outputs": [],
   "source": [
    "num_layers = TensorFile.MAX_BLOCKS\n",
    "num_tokens = lst.size(0)\n",
    "cosine_similarities = torch.zeros(num_tokens, num_samples, 12, 12)\n",
    "for token_idx in range(num_tokens):\n",
    "    for sample_idx in range(num_samples):\n",
    "        for i in range(num_layers):\n",
    "            for j in range(num_layers):\n",
    "                cos_sim = None \n",
    "                if i == j:\n",
    "                    cos_sim = torch.tensor([1.0])\n",
    "                else:\n",
    "                    cos_sim = F.cosine_similarity(\n",
    "                        lst[token_idx, sample_idx, i].unsqueeze(0),\n",
    "                        lst[token_idx, sample_idx, j].unsqueeze(0),\n",
    "                        dim=1\n",
    "                    )\n",
    "\n",
    "                cosine_similarities[token_idx, sample_idx, i, j] = cos_sim"
   ]
  },
  {
   "cell_type": "code",
   "execution_count": null,
   "metadata": {},
   "outputs": [
    {
     "data": {
      "text/plain": [
       "torch.Size([9, 50, 11])"
      ]
     },
     "execution_count": 7,
     "metadata": {},
     "output_type": "execute_result"
    }
   ],
   "source": [
    "start = torch.arange(0, num_layers - 1)\n",
    "consecutive_similarities = cosine_similarities[:, :, start, start + 1]\n",
    "consecutive_similarities.shape"
   ]
  },
  {
   "cell_type": "code",
   "execution_count": null,
   "metadata": {},
   "outputs": [
    {
     "data": {
      "text/plain": [
       "tensor([0.7525, 0.9384, 0.9537, 0.9699, 0.9550, 0.9476, 0.9525, 0.9504, 0.9298,\n",
       "        0.9005, 0.9217])"
      ]
     },
     "execution_count": 8,
     "metadata": {},
     "output_type": "execute_result"
    }
   ],
   "source": [
    "consecutive_similarities.view(-1, 11).mean(axis=0)"
   ]
  },
  {
   "cell_type": "code",
   "execution_count": null,
   "metadata": {},
   "outputs": [
    {
     "data": {
      "text/plain": [
       "4950"
      ]
     },
     "execution_count": 9,
     "metadata": {},
     "output_type": "execute_result"
    }
   ],
   "source": [
    "consecutive_similarities.numel()"
   ]
  },
  {
   "cell_type": "code",
   "execution_count": null,
   "metadata": {},
   "outputs": [],
   "source": [
    "import matplotlib.pyplot as plt \n",
    "import seaborn as sns "
   ]
  },
  {
   "cell_type": "code",
   "execution_count": null,
   "metadata": {},
   "outputs": [
    {
     "data": {
      "text/plain": [
       "<Axes: ylabel='Count'>"
      ]
     },
     "execution_count": 11,
     "metadata": {},
     "output_type": "execute_result"
    },
    {
     "data": {
      "image/png": "[encoded data removed]",
      "text/plain": [
       "<Figure size 640x480 with 1 Axes>"
      ]
     },
     "metadata": {},
     "output_type": "display_data"
    }
   ],
   "source": [
    "sns.histplot(consecutive_similarities[:, :, -1].view(-1))"
   ]
  },
  {
   "cell_type": "code",
   "execution_count": null,
   "metadata": {},
   "outputs": [
    {
     "data": {
      "text/plain": [
       "<Axes: ylabel='Count'>"
      ]
     },
     "execution_count": 12,
     "metadata": {},
     "output_type": "execute_result"
    },
    {
     "data": {
      "image/png": "[encoded data removed]",
      "text/plain": [
       "<Figure size 640x480 with 1 Axes>"
      ]
     },
     "metadata": {},
     "output_type": "display_data"
    }
   ],
   "source": [
    "sns.histplot(consecutive_similarities[:, :, 0].view(-1))"
   ]
  },
  {
   "cell_type": "code",
   "execution_count": null,
   "metadata": {},
   "outputs": [
    {
     "data": {
      "text/plain": [
       "<Axes: ylabel='Count'>"
      ]
     },
     "execution_count": 13,
     "metadata": {},
     "output_type": "execute_result"
    },
    {
     "data": {
      "image/png": "[encoded data removed]",
      "text/plain": [
       "<Figure size 640x480 with 1 Axes>"
      ]
     },
     "metadata": {},
     "output_type": "display_data"
    }
   ],
   "source": [
    "sns.histplot(consecutive_similarities[:, :, 5].view(-1))"
   ]
  },
  {
   "cell_type": "code",
   "execution_count": null,
   "metadata": {},
   "outputs": [
    {
     "data": {
      "text/plain": [
       "4950"
      ]
     },
     "execution_count": 14,
     "metadata": {},
     "output_type": "execute_result"
    }
   ],
   "source": [
    "consecutive_similarities.numel()"
   ]
  },
  {
   "cell_type": "code",
   "execution_count": null,
   "metadata": {},
   "outputs": [],
   "source": [
    "class ConsecDataset:\n",
    "    '''\n",
    "    Given in(l) (= out(l - 1)), predict cos(in(l + n), in(l + n + 1)) \n",
    "    '''\n",
    "    def __init__(self, consec_arr: torch.tensor, consec_sims: torch.tensor, n: int):\n",
    "        # 0 -> n + 1\n",
    "        # ...\n",
    "        # num_layers - n - 1 -> num_layers  \n",
    "        self.num_layers = consec_arr.size(1)\n",
    "        self.per_sample_len = self.num_layers - n - 1\n",
    "        self.n = n \n",
    "        # assert n >= 1 and n <= num_layers - 1\n",
    "        # assert n == 1\n",
    "\n",
    "        self.X = consec_arr\n",
    "        self.y = consec_sims\n",
    "\n",
    "        assert self.X.size(0) == self.y.size(0)\n",
    "\n",
    "    def __len__(self):\n",
    "        return self.y.size(0) * self.per_sample_len\n",
    "\n",
    "    def __getitem__(self, idx: int):\n",
    "        sample_idx = idx // self.per_sample_len\n",
    "        start_layer_idx = idx % self.per_sample_len\n",
    "        x = self.X[sample_idx, start_layer_idx]\n",
    "        # y[s, i] = cos(in(i), in(i + 1))\n",
    "        y = self.y[sample_idx, start_layer_idx + self.n]\n",
    "        return x, y"
   ]
  },
  {
   "cell_type": "code",
   "execution_count": null,
   "metadata": {},
   "outputs": [
    {
     "name": "stdout",
     "output_type": "stream",
     "text": [
      "All tests passed!\n"
     ]
    }
   ],
   "source": [
    "# (N, 5, 4) tensor\n",
    "tmp_data = torch.tensor([\n",
    "    [[1.0, 0.0, 0.0, 0.0],\n",
    "     [0.0, 1.0, 0.0, 0.0],\n",
    "     [1.0, 1.0, 0.0, 0.0],\n",
    "     [0.0, 0.0, 1.0, 0.0],\n",
    "     [0.0, 0.0, 0.0, 1.0]],\n",
    "\n",
    "    [[1.0, 2.0, 3.0, 4.0],\n",
    "     [4.0, 3.0, 2.0, 1.0],\n",
    "     [1.0, 1.0, 1.0, 1.0],\n",
    "     [2.0, 2.0, 2.0, 2.0],\n",
    "     [3.0, 3.0, 3.0, 3.0]]\n",
    "])\n",
    "def compute_cosine_similarity(vec1, vec2):\n",
    "    cos_sim = torch.dot(vec1, vec2) / (torch.norm(vec1) * torch.norm(vec2))\n",
    "    return cos_sim\n",
    "\n",
    "tmp_sims = torch.zeros((2, 4))\n",
    "for i in range(2):\n",
    "    for j in range(4):\n",
    "        tmp_sims[i, j] = compute_cosine_similarity(tmp_data[i, j], tmp_data[i, j + 1])\n",
    "\n",
    "dataset = ConsecDataset(tmp_data, tmp_sims, 1)\n",
    "\n",
    "dataset_idx = 0\n",
    "for sample_idx in range(tmp_sims.size(0)):\n",
    "    for start_layer_idx in range(tmp_sims.size(1) - 1):\n",
    "        x, y = dataset[dataset_idx]\n",
    "        dataset_idx += 1\n",
    "\n",
    "        expected_x = tmp_data[sample_idx, start_layer_idx]\n",
    "        expected_y = tmp_sims[sample_idx, start_layer_idx + 1]\n",
    "\n",
    "        assert torch.equal(x, expected_x), f\"Retrieved x is incorrect at index {sample_idx=}, {start_layer_idx=}\"\n",
    "        assert torch.equal(y, expected_y), f\"Retrieved y is incorrect at index {sample_idx=}, {start_layer_idx=}\"\n",
    "\n",
    "        # Calculate cosine similarity by hand\n",
    "        vec1 = tmp_data[sample_idx, start_layer_idx + 1]\n",
    "        vec2 = tmp_data[sample_idx, start_layer_idx + 2]\n",
    "        cos_sim = torch.dot(vec1, vec2) / (torch.norm(vec1) * torch.norm(vec2))\n",
    "        \n",
    "        assert torch.isclose(y, cos_sim, atol=1e-4), f\"Cosine similarity is incorrect at index {sample_idx=}, {start_layer_idx=}: {y} != {cos_sim}\"\n",
    "\n",
    "print(\"All tests passed!\")"
   ]
  },
  {
   "cell_type": "code",
   "execution_count": null,
   "metadata": {},
   "outputs": [],
   "source": [
    "import torch.nn as nn \n",
    "\n",
    "class SimpleMLP(nn.Module):\n",
    "    def __init__(self, input_size, hidden_size, output_size):\n",
    "        super(SimpleMLP, self).__init__()\n",
    "        self.fc1 = nn.Linear(input_size, hidden_size)\n",
    "        self.relu = nn.ReLU()\n",
    "        self.fc2 = nn.Linear(hidden_size, output_size)\n",
    "        self.sigmoid = nn.Sigmoid()\n",
    "    \n",
    "    def forward(self, x):\n",
    "        out = self.fc1(x)\n",
    "        out = self.relu(out)\n",
    "        out = self.fc2(out)\n",
    "        out = self.sigmoid(out)\n",
    "        return out\n"
   ]
  },
  {
   "cell_type": "code",
   "execution_count": null,
   "metadata": {},
   "outputs": [],
   "source": [
    "from sklearn.model_selection import train_test_split"
   ]
  },
  {
   "cell_type": "code",
   "execution_count": null,
   "metadata": {},
   "outputs": [
    {
     "data": {
      "text/plain": [
       "(torch.Size([9, 50, 12, 768]), torch.Size([9, 50, 11]))"
      ]
     },
     "execution_count": 19,
     "metadata": {},
     "output_type": "execute_result"
    }
   ],
   "source": [
    "lst.shape, consecutive_similarities.shape"
   ]
  },
  {
   "cell_type": "code",
   "execution_count": null,
   "metadata": {},
   "outputs": [],
   "source": [
    "from torch.utils.data import DataLoader\n",
    "import random \n",
    "\n",
    "tmp_data = lst.view(-1, 12, 768)\n",
    "targets = consecutive_similarities.view(-1, 11) \n",
    "N = tmp_data.size(0)\n",
    "all_indices = list(range(N)) \n",
    "random.shuffle(all_indices)\n",
    "index_bound = int(N * 0.7)\n",
    "train_data = tmp_data[all_indices[:index_bound]]\n",
    "train_targets = targets[all_indices[:index_bound]]\n",
    "test_data = tmp_data[all_indices[index_bound:]]\n",
    "test_targets = targets[all_indices[index_bound:]]\n",
    "\n",
    "train_dataset = ConsecDataset(train_data, train_targets, n=1)\n",
    "test_dataset = ConsecDataset(test_data, test_targets, n=1)\n",
    "\n",
    "batch_size = 16\n",
    "train_loader = DataLoader(train_dataset, batch_size=batch_size, shuffle=True)\n",
    "test_loader = DataLoader(test_dataset, batch_size=batch_size, shuffle=False)"
   ]
  },
  {
   "cell_type": "code",
   "execution_count": null,
   "metadata": {},
   "outputs": [],
   "source": [
    "input_size = train_data.size(-1)\n",
    "hidden_size = 64\n",
    "output_size = 1 \n",
    "\n",
    "model = SimpleMLP(input_size, hidden_size, output_size)\n",
    "criterion = nn.MSELoss()  \n",
    "optimizer = torch.optim.Adam(model.parameters(), lr=1e-3)\n",
    "\n",
    "device = 'cuda'\n",
    "model = model.to(device)"
   ]
  },
  {
   "cell_type": "code",
   "execution_count": null,
   "metadata": {},
   "outputs": [],
   "source": [
    "def measure_val_loss(model, val_loader, device):\n",
    "    epoch_loss = 0\n",
    "    for inputs, labels in val_loader:\n",
    "        inputs = inputs.to(device)\n",
    "        labels = labels.to(device)\n",
    "\n",
    "        outputs = model(inputs).reshape(-1)\n",
    "        loss = criterion(outputs, labels)\n",
    "\n",
    "        batch_size = outputs.numel()\n",
    "        epoch_loss += loss.item() * batch_size / len(val_loader.dataset)\n",
    "\n",
    "    return epoch_loss"
   ]
  },
  {
   "cell_type": "code",
   "execution_count": null,
   "metadata": {},
   "outputs": [
    {
     "data": {
      "text/plain": [
       "(0.21451749461037767, 0.2156342572856832)"
      ]
     },
     "execution_count": 34,
     "metadata": {},
     "output_type": "execute_result"
    }
   ],
   "source": [
    "test_loss = measure_val_loss(model, test_loader, device)\n",
    "train_loss = measure_val_loss(model, train_loader, device)\n",
    "train_loss, test_loss"
   ]
  },
  {
   "cell_type": "code",
   "execution_count": null,
   "metadata": {},
   "outputs": [
    {
     "data": {
      "application/vnd.jupyter.widget-view+json": {
       "model_id": "7689a18148054d1e8bd8b811f167eba3",
       "version_major": 2,
       "version_minor": 0
      },
      "text/plain": [
       "  0%|          | 0/10 [00:00<?, ?it/s]"
      ]
     },
     "metadata": {},
     "output_type": "display_data"
    },
    {
     "name": "stdout",
     "output_type": "stream",
     "text": [
      "Epoch [1/10], Loss: 2.4854e-01, Val Loss: 4.1487e-03\n",
      "Epoch [2/10], Loss: 2.9986e-02, Val Loss: 2.5503e-03\n",
      "Epoch [3/10], Loss: 1.7572e-02, Val Loss: 1.3926e-03\n",
      "Epoch [4/10], Loss: 8.6818e-03, Val Loss: 7.7578e-04\n",
      "Epoch [5/10], Loss: 5.6167e-03, Val Loss: 6.7387e-04\n",
      "Epoch [6/10], Loss: 4.4995e-03, Val Loss: 6.1232e-04\n",
      "Epoch [7/10], Loss: 3.8912e-03, Val Loss: 5.5792e-04\n",
      "Epoch [8/10], Loss: 3.5391e-03, Val Loss: 5.6759e-04\n",
      "Epoch [9/10], Loss: 3.2551e-03, Val Loss: 6.2569e-04\n",
      "Epoch [10/10], Loss: 3.0488e-03, Val Loss: 6.5738e-04\n"
     ]
    }
   ],
   "source": [
    "from tqdm.notebook import tqdm\n",
    "\n",
    "num_epochs = 10\n",
    "\n",
    "batch_losses = []\n",
    "for epoch in tqdm(range(num_epochs)):\n",
    "    model.train()  \n",
    "    epoch_loss = 0\n",
    "    for inputs, labels in train_loader:\n",
    "        inputs = inputs.to(device)\n",
    "        labels = labels.to(device)\n",
    "\n",
    "        outputs = model(inputs).reshape(-1)\n",
    "        loss = criterion(outputs, labels)\n",
    "\n",
    "        optimizer.zero_grad()\n",
    "        loss.backward()\n",
    "        optimizer.step()\n",
    "\n",
    "        if epoch == 0:\n",
    "            batch_losses.append(loss.item())\n",
    "        epoch_loss += loss.item() * batch_size / len(train_data)\n",
    "    \n",
    "    if (epoch+1) % 1 == 0:\n",
    "        val_loss = measure_val_loss(model, test_loader, device)\n",
    "        print(f'Epoch [{epoch+1}/{num_epochs}], Loss: {epoch_loss:.4e}, Val Loss: {val_loss:.4e}')"
   ]
  },
  {
   "cell_type": "code",
   "execution_count": null,
   "metadata": {},
   "outputs": [
    {
     "data": {
      "text/plain": [
       "[<matplotlib.lines.Line2D at 0x7f4571217fa0>]"
      ]
     },
     "execution_count": 36,
     "metadata": {},
     "output_type": "execute_result"
    },
    {
     "data": {
      "image/png": "[encoded data removed]",
      "text/plain": [
       "<Figure size 640x480 with 1 Axes>"
      ]
     },
     "metadata": {},
     "output_type": "display_data"
    }
   ],
   "source": [
    "import numpy as np\n",
    "\n",
    "plt.plot(list(range(len(batch_losses))), np.log(np.array(batch_losses)))"
   ]
  },
  {
   "cell_type": "code",
   "execution_count": null,
   "metadata": {},
   "outputs": [
    {
     "data": {
      "text/plain": [
       "(0.0002833828894192324, 0.0006573836903812156)"
      ]
     },
     "execution_count": 37,
     "metadata": {},
     "output_type": "execute_result"
    }
   ],
   "source": [
    "test_loss = measure_val_loss(model, test_loader, device)\n",
    "train_loss = measure_val_loss(model, train_loader, device)\n",
    "train_loss, test_loss"
   ]
  },
  {
   "cell_type": "code",
   "execution_count": null,
   "metadata": {},
   "outputs": [
    {
     "data": {
      "text/plain": [
       "torch.Size([9, 50, 12, 768])"
      ]
     },
     "execution_count": 38,
     "metadata": {},
     "output_type": "execute_result"
    }
   ],
   "source": [
    "lst.shape"
   ]
  },
  {
   "cell_type": "code",
   "execution_count": null,
   "metadata": {},
   "outputs": [
    {
     "name": "stdout",
     "output_type": "stream",
     "text": [
      "85.5 µs ± 5.54 µs per loop (mean ± std. dev. of 7 runs, 10,000 loops each)\n"
     ]
    }
   ],
   "source": [
    "x = lst[0, 0, 0].to(device)\n",
    "%timeit model(x)"
   ]
  },
  {
   "cell_type": "code",
   "execution_count": null,
   "metadata": {},
   "outputs": [
    {
     "data": {
      "text/plain": [
       "(torch.Size([315, 12, 768]), torch.Size([135, 12, 768]))"
      ]
     },
     "execution_count": 40,
     "metadata": {},
     "output_type": "execute_result"
    }
   ],
   "source": [
    "train_data.shape, test_data.shape"
   ]
  },
  {
   "cell_type": "code",
   "execution_count": null,
   "metadata": {},
   "outputs": [
    {
     "data": {
      "application/vnd.jupyter.widget-view+json": {
       "model_id": "70e4de5cb7dc464d916ee861fe19e617",
       "version_major": 2,
       "version_minor": 0
      },
      "text/plain": [
       "  0%|          | 0/3150 [00:00<?, ?it/s]"
      ]
     },
     "metadata": {},
     "output_type": "display_data"
    },
    {
     "name": "stdout",
     "output_type": "stream",
     "text": [
      "Training Loss (MSE): 2.0408e-04\n"
     ]
    }
   ],
   "source": [
    "import numpy as np\n",
    "from sklearn.metrics import mean_squared_error\n",
    "from sklearn.linear_model import LinearRegression\n",
    "from sklearn.ensemble import RandomForestRegressor\n",
    "\n",
    "X_list = []\n",
    "y_list = []\n",
    "\n",
    "for i in tqdm(range(len(train_dataset))):\n",
    "    x, y = train_dataset[i]\n",
    "    X_list.append(x.cpu().detach().numpy())\n",
    "    y_list.append(y.cpu().detach().numpy())\n",
    "\n",
    "X = np.array(X_list)\n",
    "y = np.array(y_list).reshape(-1, 1)\n",
    "\n",
    "# Train a linear regression model using sklearn\n",
    "model = LinearRegression()\n",
    "model.fit(X, y)\n",
    "\n",
    "y_pred = model.predict(X)\n",
    "\n",
    "mse_loss = mean_squared_error(y, y_pred)\n",
    "print(f'Training Loss (MSE): {mse_loss:.4e}')"
   ]
  },
  {
   "cell_type": "code",
   "execution_count": null,
   "metadata": {},
   "outputs": [
    {
     "data": {
      "application/vnd.jupyter.widget-view+json": {
       "model_id": "2af4a090e629412196eb3d5f5c7cfab8",
       "version_major": 2,
       "version_minor": 0
      },
      "text/plain": [
       "  0%|          | 0/1350 [00:00<?, ?it/s]"
      ]
     },
     "metadata": {},
     "output_type": "display_data"
    },
    {
     "name": "stdout",
     "output_type": "stream",
     "text": [
      "Test MSE:9.6672e-04\n"
     ]
    }
   ],
   "source": [
    "X_list = []\n",
    "y_list = []\n",
    "\n",
    "for i in tqdm(range(len(test_dataset))):\n",
    "    x, y = test_dataset[i]\n",
    "    X_list.append(x.cpu().detach().numpy())\n",
    "    y_list.append(y.cpu().detach().numpy())\n",
    "\n",
    "X = np.array(X_list)\n",
    "y = np.array(y_list).reshape(-1, 1)\n",
    "y_pred = model.predict(X)\n",
    "print(f'Test MSE:{mean_squared_error(y, y_pred):.4e}')"
   ]
  },
  {
   "cell_type": "code",
   "execution_count": null,
   "metadata": {},
   "outputs": [],
   "source": []
  }
 ],
 "metadata": {
  "kernelspec": {
   "display_name": "nlp",
   "language": "python",
   "name": "python3"
  },
  "language_info": {
   "codemirror_mode": {
    "name": "ipython",
    "version": 3
   },
   "file_extension": ".py",
   "mimetype": "text/x-python",
   "name": "python",
   "nbconvert_exporter": "python",
   "pygments_lexer": "ipython3",
   "version": "3.10.13"
  }
 },
 "nbformat": 4,
 "nbformat_minor": 2
}
