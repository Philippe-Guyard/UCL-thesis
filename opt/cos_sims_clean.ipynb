{
 "cells": [
  {
   "cell_type": "code",
   "execution_count": 1,
   "metadata": {},
   "outputs": [],
   "source": [
    "from pathlib import Path\n",
    "from typing import Callable, Optional\n",
    "from dataclasses import dataclass\n",
    "\n",
    "from opt_sim_dataset import OptSimilaritiesDataset\n",
    "\n",
    "import torch\n",
    "import torch.nn as nn\n",
    "import torch.nn.functional as F \n",
    "from torch.utils.data import DataLoader, random_split\n",
    "\n",
    "from tqdm.notebook import tqdm"
   ]
  },
  {
   "cell_type": "code",
   "execution_count": 2,
   "metadata": {},
   "outputs": [],
   "source": [
    "data = OptSimilaritiesDataset(Path('./data'), 12, 100, 1)"
   ]
  },
  {
   "cell_type": "code",
   "execution_count": 3,
   "metadata": {},
   "outputs": [
    {
     "name": "stdout",
     "output_type": "stream",
     "text": [
      "All tests passed\n"
     ]
    }
   ],
   "source": [
    "def test_dataset(data: OptSimilaritiesDataset):\n",
    "    X, Y, blocks = [], [], []\n",
    "    first_sample_len = len(list(Path('./data/block0/0').iterdir())) \n",
    "    for idx in range(first_sample_len + 1):\n",
    "        x, y, block = data[idx] \n",
    "        X.append(x)\n",
    "        Y.append(y)\n",
    "        blocks.append(block)\n",
    "\n",
    "    x0 = torch.load('./data/block0/0/0.pt')\n",
    "    assert torch.allclose(x0, X[0]), 'Wrong x values'\n",
    "    assert blocks[0] == 0, 'Wrong block value'\n",
    "\n",
    "    x1 = torch.load('./data/block0/0/1.pt')\n",
    "    assert torch.allclose(x1, X[1]), 'Wrong x values'\n",
    "    assert blocks[1] == 0, 'Wrong block value'\n",
    "\n",
    "    x2 = torch.load('./data/block0/1/0.pt')\n",
    "    assert torch.allclose(x2, X[first_sample_len]), 'Wrong x values'\n",
    "    assert blocks[first_sample_len] == 0, 'Wrong block values'\n",
    "\n",
    "    y0 = F.cosine_similarity(\n",
    "        torch.load('./data/block1/0/0.pt'),\n",
    "        torch.load(f'./data/block{data.n + 1}/0/0.pt'),\n",
    "        dim=-1\n",
    "    )\n",
    "    assert torch.isclose(Y[0], y0), 'Wrong y values'\n",
    "\n",
    "    y1 = F.cosine_similarity(\n",
    "        torch.load('./data/block1/0/1.pt'),\n",
    "        torch.load(f'./data/block{data.n + 1}/0/1.pt'),\n",
    "        dim=-1\n",
    "    )\n",
    "    assert torch.isclose(Y[1], y1), 'Wrong y values'\n",
    "\n",
    "    y2 = F.cosine_similarity(\n",
    "        torch.load('./data/block1/1/0.pt'),\n",
    "        torch.load(f'./data/block{data.n + 1}/1/0.pt'),\n",
    "        dim=-1\n",
    "    )\n",
    "    assert torch.isclose(Y[first_sample_len], y2), 'Wrong y values'\n",
    "\n",
    "test_dataset(data)\n",
    "print('All tests passed')"
   ]
  },
  {
   "cell_type": "code",
   "execution_count": 6,
   "metadata": {},
   "outputs": [],
   "source": [
    "@dataclass \n",
    "class MlpConfig:\n",
    "    input_size: int\n",
    "    output_size: int\n",
    "    hidden_size: Optional[int] \n",
    "\n",
    "class LogReg(nn.Module):\n",
    "    def __init__(self, config: MlpConfig):\n",
    "        super(LogReg, self).__init__()\n",
    "        self.fc = nn.Linear(config.input_size, config.output_size)\n",
    "        self.sigmoid = nn.Sigmoid()\n",
    "    \n",
    "    def forward(self, x, *args):\n",
    "        return self.sigmoid(self.fc(x))\n",
    "\n",
    "class SimpleMLP(nn.Module):\n",
    "    def __init__(self, config: MlpConfig):\n",
    "        super(SimpleMLP, self).__init__()\n",
    "        assert config.hidden_size is not None \n",
    "\n",
    "        self.fc1 = nn.Linear(config.input_size, config.hidden_size)\n",
    "        self.relu = nn.ReLU()\n",
    "        self.fc2 = nn.Linear(config.hidden_size, config.output_size)\n",
    "        self.sigmoid = nn.Sigmoid()\n",
    "    \n",
    "    def forward(self, x, *args):\n",
    "        # ignore args just to be compatible with PerBlockMlp\n",
    "        out = self.fc1(x)\n",
    "        out = self.relu(out)\n",
    "        out = self.fc2(out)\n",
    "        out = self.sigmoid(out)\n",
    "        return out\n",
    "\n",
    "class PerBlockNet(nn.Module):\n",
    "    def __init__(self, num_blocks: int, config: MlpConfig, block_net_cls: Callable[[MlpConfig], nn.Module]):\n",
    "        super(PerBlockNet, self).__init__()\n",
    "        self.num_blocks = num_blocks\n",
    "        self.mlps = nn.ModuleList([block_net_cls(config) for _ in range(num_blocks)])\n",
    "    \n",
    "    def forward(self, x, blocks):\n",
    "        out = torch.zeros(x.size(0))\n",
    "        for idx, (xi, block) in enumerate(zip(x, blocks)):\n",
    "            out[idx] = self.mlps[block](xi)\n",
    "        \n",
    "        return out.view(-1, 1) "
   ]
  },
  {
   "cell_type": "code",
   "execution_count": 7,
   "metadata": {},
   "outputs": [],
   "source": [
    "@torch.no_grad\n",
    "def measure_loss(model, criterion, loader, device):\n",
    "    model.eval()\n",
    "    epoch_loss = 0\n",
    "    for inputs, labels, blocks in loader:\n",
    "        inputs = inputs.to(device)\n",
    "        labels = labels.to(device)\n",
    "\n",
    "        outputs = model(inputs, blocks).to(device)\n",
    "        loss = criterion(outputs, labels)\n",
    "\n",
    "        batch_size = outputs.numel()\n",
    "        epoch_loss += loss.item() * batch_size / len(loader.dataset)\n",
    "\n",
    "    return epoch_loss"
   ]
  },
  {
   "cell_type": "code",
   "execution_count": 8,
   "metadata": {},
   "outputs": [
    {
     "name": "stdout",
     "output_type": "stream",
     "text": [
      "torch.Size([2048, 1])\n",
      "81.8 µs ± 573 ns per loop (mean ± std. dev. of 7 runs, 10,000 loops each)\n"
     ]
    }
   ],
   "source": [
    "x1 = torch.randn((768, 1)).to('cuda')\n",
    "M1 = torch.randn((2048, 768)).to('cuda')\n",
    "print((M1 @ x1).shape)\n",
    "%timeit M1 @ x1 "
   ]
  },
  {
   "cell_type": "code",
   "execution_count": 9,
   "metadata": {},
   "outputs": [
    {
     "name": "stdout",
     "output_type": "stream",
     "text": [
      "torch.Size([64, 1])\n",
      "11.9 µs ± 1.1 µs per loop (mean ± std. dev. of 7 runs, 100,000 loops each)\n"
     ]
    }
   ],
   "source": [
    "x2 = torch.randn((768, 1)).to('cuda')\n",
    "M2 = torch.randn((64, 768)).to('cuda')\n",
    "print((M2 @ x2).shape)\n",
    "%timeit M2 @ x2 "
   ]
  },
  {
   "cell_type": "code",
   "execution_count": 10,
   "metadata": {},
   "outputs": [],
   "source": [
    "def train_mlp(train_loader: DataLoader, val_loader: DataLoader, \n",
    "              model: SimpleMLP, criterion: Callable[[torch.Tensor, torch.Tensor], torch.Tensor], \n",
    "              num_epochs: int, device):\n",
    "    optimizer = torch.optim.Adam(model.parameters(), lr=1e-3)\n",
    "    \n",
    "    for epoch in tqdm(range(num_epochs)):\n",
    "        model.train()  \n",
    "        epoch_loss = 0\n",
    "        for inputs, labels, blocks in train_loader:\n",
    "            inputs = inputs.to(device)\n",
    "            labels = labels.to(device)\n",
    "            blocks = blocks.to(device)\n",
    "\n",
    "            outputs = model(inputs, blocks).to(device)\n",
    "            loss = criterion(outputs, labels)\n",
    "\n",
    "            optimizer.zero_grad()\n",
    "            loss.backward()\n",
    "            optimizer.step()\n",
    "\n",
    "            batch_size = outputs.numel()\n",
    "            epoch_loss += loss.item() * batch_size / len(train_loader.dataset)\n",
    "\n",
    "        print(f'Epoch {epoch}: train_loss={epoch_loss:.4e}, val_loss={measure_loss(model, criterion, val_loader, device):.4e}') \n",
    "    \n",
    "    return model"
   ]
  },
  {
   "cell_type": "code",
   "execution_count": 14,
   "metadata": {},
   "outputs": [],
   "source": [
    "N = len(data)\n",
    "test_len = int(N * 0.3)\n",
    "train_and_val_data, test_data = random_split(data, [N - test_len, test_len])\n",
    "\n",
    "batch_size = 16\n",
    "test_loader = DataLoader(test_data, batch_size=batch_size, shuffle=False)\n",
    "\n",
    "config = MlpConfig(\n",
    "    input_size=768,\n",
    "    hidden_size=256,\n",
    "    output_size=1\n",
    ")"
   ]
  },
  {
   "cell_type": "code",
   "execution_count": 15,
   "metadata": {},
   "outputs": [
    {
     "data": {
      "application/vnd.jupyter.widget-view+json": {
       "model_id": "d6509b3acb654be5ab5f3f5c6f435393",
       "version_major": 2,
       "version_minor": 0
      },
      "text/plain": [
       "  0%|          | 0/4 [00:00<?, ?it/s]"
      ]
     },
     "metadata": {},
     "output_type": "display_data"
    },
    {
     "name": "stdout",
     "output_type": "stream",
     "text": [
      "Epoch 0: train_loss=5.9381e-03, val_loss=1.9367e-03\n",
      "Epoch 1: train_loss=1.8721e-03, val_loss=1.3491e-03\n",
      "Epoch 2: train_loss=1.0708e-03, val_loss=1.1396e-03\n",
      "Epoch 3: train_loss=7.4876e-04, val_loss=3.1237e-04\n",
      "train_ratio=0.6, test loss = 3.2061e-04\n"
     ]
    }
   ],
   "source": [
    "for train_ratio in [0.6]: # torch.linspace(0.1, 0.6, 6):\n",
    "    train_len = int(N * train_ratio)\n",
    "    train_data, val_data = random_split(train_and_val_data, [train_len, N - train_len - test_len])\n",
    "\n",
    "    train_loader = DataLoader(train_data, batch_size=batch_size, shuffle=True)\n",
    "    val_loader = DataLoader(val_data, batch_size=batch_size, shuffle=True)\n",
    "\n",
    "    device = 'cuda'\n",
    "    model = PerBlockNet(data.per_sample_len, config, SimpleMLP) \n",
    "    model = model.to(device)\n",
    "    criterion = nn.MSELoss() \n",
    "    model = train_mlp(train_loader, val_loader, model, criterion, 4, device)\n",
    "\n",
    "    print(f'{train_ratio=}, test loss = {measure_loss(model, criterion, test_loader, device):.4e}')"
   ]
  },
  {
   "cell_type": "code",
   "execution_count": 16,
   "metadata": {},
   "outputs": [],
   "source": [
    "per_block = [[] for _ in range(data.per_sample_len)]\n",
    "\n",
    "for inputs, labels, blocks in test_loader:\n",
    "    inputs = inputs.to(device)\n",
    "    outputs = model(inputs, blocks)\n",
    "    for block, out in zip(blocks, outputs):\n",
    "        per_block[block].append(out.item())"
   ]
  },
  {
   "cell_type": "code",
   "execution_count": 17,
   "metadata": {},
   "outputs": [
    {
     "name": "stdout",
     "output_type": "stream",
     "text": [
      "0 1457\n",
      "1 1412\n",
      "2 1402\n",
      "3 1503\n",
      "4 1496\n",
      "5 1442\n",
      "6 1433\n",
      "7 1459\n",
      "8 1475\n",
      "9 1420\n"
     ]
    }
   ],
   "source": [
    "for idx, x in enumerate(per_block):\n",
    "    print(idx, len(x))"
   ]
  },
  {
   "cell_type": "code",
   "execution_count": 18,
   "metadata": {},
   "outputs": [
    {
     "data": {
      "text/plain": [
       "<seaborn.axisgrid.FacetGrid at 0x7fe87e103730>"
      ]
     },
     "execution_count": 18,
     "metadata": {},
     "output_type": "execute_result"
    },
    {
     "data": {
      "image/png": "[encoded data removed]",
      "text/plain": [
       "<Figure size 500x500 with 1 Axes>"
      ]
     },
     "metadata": {},
     "output_type": "display_data"
    }
   ],
   "source": [
    "import seaborn as sns\n",
    "\n",
    "sns.displot(per_block[-1])"
   ]
  },
  {
   "cell_type": "code",
   "execution_count": 20,
   "metadata": {},
   "outputs": [
    {
     "data": {
      "application/vnd.jupyter.widget-view+json": {
       "model_id": "96ef643bb350452cab3e8a5aead463eb",
       "version_major": 2,
       "version_minor": 0
      },
      "text/plain": [
       "  0%|          | 0/4 [00:00<?, ?it/s]"
      ]
     },
     "metadata": {},
     "output_type": "display_data"
    },
    {
     "name": "stdout",
     "output_type": "stream",
     "text": [
      "Epoch 0: train_loss=2.7662e-03, val_loss=3.9547e-04\n",
      "Epoch 1: train_loss=3.5188e-04, val_loss=3.5214e-04\n",
      "Epoch 2: train_loss=3.1054e-04, val_loss=3.1319e-04\n",
      "Epoch 3: train_loss=2.8011e-04, val_loss=2.9645e-04\n"
     ]
    },
    {
     "data": {
      "text/plain": [
       "0.00030023084419523907"
      ]
     },
     "execution_count": 20,
     "metadata": {},
     "output_type": "execute_result"
    }
   ],
   "source": [
    "simple_model = SimpleMLP(config).to(device)\n",
    "train_mlp(train_loader, val_loader, simple_model, criterion, 4, device)\n",
    "measure_loss(simple_model, criterion, test_loader, device)"
   ]
  },
  {
   "cell_type": "code",
   "execution_count": 21,
   "metadata": {},
   "outputs": [],
   "source": [
    "per_block_simple = [[] for _ in range(data.per_sample_len)]\n",
    "\n",
    "for inputs, labels, blocks in train_loader:\n",
    "    inputs = inputs.to(device)\n",
    "    outputs = simple_model(inputs, blocks)\n",
    "    for block, out in zip(blocks, outputs):\n",
    "        per_block_simple[block].append(out.item())"
   ]
  },
  {
   "cell_type": "code",
   "execution_count": 23,
   "metadata": {},
   "outputs": [
    {
     "data": {
      "text/plain": [
       "<seaborn.axisgrid.FacetGrid at 0x7fe83ce1f040>"
      ]
     },
     "execution_count": 23,
     "metadata": {},
     "output_type": "execute_result"
    },
    {
     "data": {
      "image/png": "[encoded data removed]",
      "text/plain": [
       "<Figure size 500x500 with 1 Axes>"
      ]
     },
     "metadata": {},
     "output_type": "display_data"
    }
   ],
   "source": [
    "sns.displot(per_block_simple[-1])"
   ]
  },
  {
   "cell_type": "code",
   "execution_count": 24,
   "metadata": {},
   "outputs": [],
   "source": [
    "per_block_actual = [[] for _ in range(data.per_sample_len)]\n",
    "for _, y, blocks in train_loader:\n",
    "    for block, sim in zip(blocks, y):\n",
    "        per_block_actual[block].append(sim.item())"
   ]
  },
  {
   "cell_type": "code",
   "execution_count": 25,
   "metadata": {},
   "outputs": [
    {
     "data": {
      "text/plain": [
       "<seaborn.axisgrid.FacetGrid at 0x7fe83cd6d8d0>"
      ]
     },
     "execution_count": 25,
     "metadata": {},
     "output_type": "execute_result"
    },
    {
     "data": {
      "image/png": "[encoded data removed]",
      "text/plain": [
       "<Figure size 558.875x500 with 1 Axes>"
      ]
     },
     "metadata": {},
     "output_type": "display_data"
    }
   ],
   "source": [
    "sns.displot(per_block_actual[:5]) "
   ]
  },
  {
   "cell_type": "code",
   "execution_count": 26,
   "metadata": {},
   "outputs": [
    {
     "data": {
      "text/plain": [
       "<seaborn.axisgrid.FacetGrid at 0x7fe88eb54a00>"
      ]
     },
     "execution_count": 26,
     "metadata": {},
     "output_type": "execute_result"
    },
    {
     "data": {
      "image/png": "[encoded data removed]",
      "text/plain": [
       "<Figure size 558.875x500 with 1 Axes>"
      ]
     },
     "metadata": {},
     "output_type": "display_data"
    }
   ],
   "source": [
    "sns.displot(per_block_actual[-5:])"
   ]
  },
  {
   "cell_type": "code",
   "execution_count": 27,
   "metadata": {},
   "outputs": [],
   "source": [
    "sims = torch.tensor(per_block_actual[0])"
   ]
  },
  {
   "cell_type": "code",
   "execution_count": 28,
   "metadata": {},
   "outputs": [
    {
     "data": {
      "text/plain": [
       "tensor(0.9424)"
      ]
     },
     "execution_count": 28,
     "metadata": {},
     "output_type": "execute_result"
    }
   ],
   "source": [
    "sims.mean()"
   ]
  },
  {
   "cell_type": "code",
   "execution_count": 29,
   "metadata": {},
   "outputs": [
    {
     "data": {
      "text/plain": [
       "tensor(0.9013)"
      ]
     },
     "execution_count": 29,
     "metadata": {},
     "output_type": "execute_result"
    }
   ],
   "source": [
    "sims.quantile(0.05)"
   ]
  },
  {
   "cell_type": "code",
   "execution_count": 30,
   "metadata": {},
   "outputs": [
    {
     "name": "stdout",
     "output_type": "stream",
     "text": [
      "0 tensor(0.9424)\n",
      "1 tensor(0.9611)\n",
      "2 tensor(0.9709)\n",
      "3 tensor(0.9593)\n",
      "4 tensor(0.9496)\n",
      "5 tensor(0.9485)\n",
      "6 tensor(0.9471)\n",
      "7 tensor(0.9326)\n",
      "8 tensor(0.9226)\n",
      "9 tensor(0.9293)\n"
     ]
    }
   ],
   "source": [
    "for idx, x in enumerate(per_block_actual):\n",
    "    print(idx, torch.tensor([x]).mean())"
   ]
  },
  {
   "cell_type": "code",
   "execution_count": 31,
   "metadata": {},
   "outputs": [
    {
     "data": {
      "application/vnd.jupyter.widget-view+json": {
       "model_id": "89de1bd5f2514ad2b5c4ee0901e7fcf7",
       "version_major": 2,
       "version_minor": 0
      },
      "text/plain": [
       "  0%|          | 0/4 [00:00<?, ?it/s]"
      ]
     },
     "metadata": {},
     "output_type": "display_data"
    },
    {
     "name": "stdout",
     "output_type": "stream",
     "text": [
      "Epoch 0: train_loss=1.8522e-02, val_loss=2.8722e-03\n",
      "Epoch 1: train_loss=2.0224e-03, val_loss=1.3984e-03\n",
      "Epoch 2: train_loss=1.1037e-03, val_loss=8.9257e-04\n",
      "Epoch 3: train_loss=7.3392e-04, val_loss=6.4630e-04\n"
     ]
    },
    {
     "data": {
      "text/plain": [
       "0.0006378548942915462"
      ]
     },
     "execution_count": 31,
     "metadata": {},
     "output_type": "execute_result"
    }
   ],
   "source": [
    "logreg = LogReg(config).to(device)\n",
    "train_mlp(train_loader, val_loader, logreg, criterion, 4, device)\n",
    "measure_loss(logreg, criterion, test_loader, device)"
   ]
  },
  {
   "cell_type": "code",
   "execution_count": 32,
   "metadata": {},
   "outputs": [
    {
     "data": {
      "application/vnd.jupyter.widget-view+json": {
       "model_id": "011a98506fd64d96b67a448fa4e3c894",
       "version_major": 2,
       "version_minor": 0
      },
      "text/plain": [
       "  0%|          | 0/4 [00:00<?, ?it/s]"
      ]
     },
     "metadata": {},
     "output_type": "display_data"
    },
    {
     "name": "stdout",
     "output_type": "stream",
     "text": [
      "Epoch 0: train_loss=2.8479e-02, val_loss=5.4699e-03\n"
     ]
    },
    {
     "ename": "KeyboardInterrupt",
     "evalue": "",
     "output_type": "error",
     "traceback": [
      "\u001b[0;31m---------------------------------------------------------------------------\u001b[0m",
      "\u001b[0;31mKeyboardInterrupt\u001b[0m                         Traceback (most recent call last)",
      "Cell \u001b[0;32mIn[32], line 2\u001b[0m\n\u001b[1;32m      1\u001b[0m logreg_better \u001b[38;5;241m=\u001b[39m PerBlockNet(data\u001b[38;5;241m.\u001b[39mper_sample_len, config, LogReg)\u001b[38;5;241m.\u001b[39mto(device)\n\u001b[0;32m----> 2\u001b[0m \u001b[43mtrain_mlp\u001b[49m\u001b[43m(\u001b[49m\u001b[43mtrain_loader\u001b[49m\u001b[43m,\u001b[49m\u001b[43m \u001b[49m\u001b[43mval_loader\u001b[49m\u001b[43m,\u001b[49m\u001b[43m \u001b[49m\u001b[43mlogreg_better\u001b[49m\u001b[43m,\u001b[49m\u001b[43m \u001b[49m\u001b[43mcriterion\u001b[49m\u001b[43m,\u001b[49m\u001b[43m \u001b[49m\u001b[38;5;241;43m4\u001b[39;49m\u001b[43m,\u001b[49m\u001b[43m \u001b[49m\u001b[43mdevice\u001b[49m\u001b[43m)\u001b[49m\n\u001b[1;32m      3\u001b[0m measure_loss(logreg_better, criterion, test_loader, device)\n",
      "Cell \u001b[0;32mIn[10], line 18\u001b[0m, in \u001b[0;36mtrain_mlp\u001b[0;34m(train_loader, val_loader, model, criterion, num_epochs, device)\u001b[0m\n\u001b[1;32m     15\u001b[0m loss \u001b[38;5;241m=\u001b[39m criterion(outputs, labels)\n\u001b[1;32m     17\u001b[0m optimizer\u001b[38;5;241m.\u001b[39mzero_grad()\n\u001b[0;32m---> 18\u001b[0m \u001b[43mloss\u001b[49m\u001b[38;5;241;43m.\u001b[39;49m\u001b[43mbackward\u001b[49m\u001b[43m(\u001b[49m\u001b[43m)\u001b[49m\n\u001b[1;32m     19\u001b[0m optimizer\u001b[38;5;241m.\u001b[39mstep()\n\u001b[1;32m     21\u001b[0m batch_size \u001b[38;5;241m=\u001b[39m outputs\u001b[38;5;241m.\u001b[39mnumel()\n",
      "File \u001b[0;32m~/anaconda3/envs/nlp/lib/python3.10/site-packages/torch/_tensor.py:522\u001b[0m, in \u001b[0;36mTensor.backward\u001b[0;34m(self, gradient, retain_graph, create_graph, inputs)\u001b[0m\n\u001b[1;32m    512\u001b[0m \u001b[38;5;28;01mif\u001b[39;00m has_torch_function_unary(\u001b[38;5;28mself\u001b[39m):\n\u001b[1;32m    513\u001b[0m     \u001b[38;5;28;01mreturn\u001b[39;00m handle_torch_function(\n\u001b[1;32m    514\u001b[0m         Tensor\u001b[38;5;241m.\u001b[39mbackward,\n\u001b[1;32m    515\u001b[0m         (\u001b[38;5;28mself\u001b[39m,),\n\u001b[0;32m   (...)\u001b[0m\n\u001b[1;32m    520\u001b[0m         inputs\u001b[38;5;241m=\u001b[39minputs,\n\u001b[1;32m    521\u001b[0m     )\n\u001b[0;32m--> 522\u001b[0m \u001b[43mtorch\u001b[49m\u001b[38;5;241;43m.\u001b[39;49m\u001b[43mautograd\u001b[49m\u001b[38;5;241;43m.\u001b[39;49m\u001b[43mbackward\u001b[49m\u001b[43m(\u001b[49m\n\u001b[1;32m    523\u001b[0m \u001b[43m    \u001b[49m\u001b[38;5;28;43mself\u001b[39;49m\u001b[43m,\u001b[49m\u001b[43m \u001b[49m\u001b[43mgradient\u001b[49m\u001b[43m,\u001b[49m\u001b[43m \u001b[49m\u001b[43mretain_graph\u001b[49m\u001b[43m,\u001b[49m\u001b[43m \u001b[49m\u001b[43mcreate_graph\u001b[49m\u001b[43m,\u001b[49m\u001b[43m \u001b[49m\u001b[43minputs\u001b[49m\u001b[38;5;241;43m=\u001b[39;49m\u001b[43minputs\u001b[49m\n\u001b[1;32m    524\u001b[0m \u001b[43m\u001b[49m\u001b[43m)\u001b[49m\n",
      "File \u001b[0;32m~/anaconda3/envs/nlp/lib/python3.10/site-packages/torch/autograd/__init__.py:266\u001b[0m, in \u001b[0;36mbackward\u001b[0;34m(tensors, grad_tensors, retain_graph, create_graph, grad_variables, inputs)\u001b[0m\n\u001b[1;32m    261\u001b[0m     retain_graph \u001b[38;5;241m=\u001b[39m create_graph\n\u001b[1;32m    263\u001b[0m \u001b[38;5;66;03m# The reason we repeat the same comment below is that\u001b[39;00m\n\u001b[1;32m    264\u001b[0m \u001b[38;5;66;03m# some Python versions print out the first line of a multi-line function\u001b[39;00m\n\u001b[1;32m    265\u001b[0m \u001b[38;5;66;03m# calls in the traceback and some print out the last line\u001b[39;00m\n\u001b[0;32m--> 266\u001b[0m \u001b[43mVariable\u001b[49m\u001b[38;5;241;43m.\u001b[39;49m\u001b[43m_execution_engine\u001b[49m\u001b[38;5;241;43m.\u001b[39;49m\u001b[43mrun_backward\u001b[49m\u001b[43m(\u001b[49m\u001b[43m  \u001b[49m\u001b[38;5;66;43;03m# Calls into the C++ engine to run the backward pass\u001b[39;49;00m\n\u001b[1;32m    267\u001b[0m \u001b[43m    \u001b[49m\u001b[43mtensors\u001b[49m\u001b[43m,\u001b[49m\n\u001b[1;32m    268\u001b[0m \u001b[43m    \u001b[49m\u001b[43mgrad_tensors_\u001b[49m\u001b[43m,\u001b[49m\n\u001b[1;32m    269\u001b[0m \u001b[43m    \u001b[49m\u001b[43mretain_graph\u001b[49m\u001b[43m,\u001b[49m\n\u001b[1;32m    270\u001b[0m \u001b[43m    \u001b[49m\u001b[43mcreate_graph\u001b[49m\u001b[43m,\u001b[49m\n\u001b[1;32m    271\u001b[0m \u001b[43m    \u001b[49m\u001b[43minputs\u001b[49m\u001b[43m,\u001b[49m\n\u001b[1;32m    272\u001b[0m \u001b[43m    \u001b[49m\u001b[43mallow_unreachable\u001b[49m\u001b[38;5;241;43m=\u001b[39;49m\u001b[38;5;28;43;01mTrue\u001b[39;49;00m\u001b[43m,\u001b[49m\n\u001b[1;32m    273\u001b[0m \u001b[43m    \u001b[49m\u001b[43maccumulate_grad\u001b[49m\u001b[38;5;241;43m=\u001b[39;49m\u001b[38;5;28;43;01mTrue\u001b[39;49;00m\u001b[43m,\u001b[49m\n\u001b[1;32m    274\u001b[0m \u001b[43m\u001b[49m\u001b[43m)\u001b[49m\n",
      "\u001b[0;31mKeyboardInterrupt\u001b[0m: "
     ]
    }
   ],
   "source": [
    "logreg_better = PerBlockNet(data.per_sample_len, config, LogReg).to(device)\n",
    "train_mlp(train_loader, val_loader, logreg_better, criterion, 4, device)\n",
    "measure_loss(logreg_better, criterion, test_loader, device)"
   ]
  }
 ],
 "metadata": {
  "kernelspec": {
   "display_name": "nlp",
   "language": "python",
   "name": "python3"
  },
  "language_info": {
   "codemirror_mode": {
    "name": "ipython",
    "version": 3
   },
   "file_extension": ".py",
   "mimetype": "text/x-python",
   "name": "python",
   "nbconvert_exporter": "python",
   "pygments_lexer": "ipython3",
   "version": "3.10.13"
  }
 },
 "nbformat": 4,
 "nbformat_minor": 2
}
