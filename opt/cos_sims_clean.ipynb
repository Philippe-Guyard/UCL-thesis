{
 "cells": [
  {
   "cell_type": "code",
   "execution_count": 23,
   "metadata": {},
   "outputs": [],
   "source": [
    "from pathlib import Path\n",
    "from typing import Callable, Optional\n",
    "from dataclasses import dataclass\n",
    "\n",
    "from opt_sim_dataset import OptSimilaritiesDataset\n",
    "\n",
    "import torch\n",
    "import torch.nn as nn\n",
    "import torch.nn.functional as F \n",
    "from torch.utils.data import DataLoader, random_split\n",
    "\n",
    "from tqdm.notebook import tqdm"
   ]
  },
  {
   "cell_type": "code",
   "execution_count": 24,
   "metadata": {},
   "outputs": [],
   "source": [
    "data = OptSimilaritiesDataset(Path('./data'), 13, 500, 1)"
   ]
  },
  {
   "cell_type": "code",
   "execution_count": 30,
   "metadata": {},
   "outputs": [
    {
     "name": "stdout",
     "output_type": "stream",
     "text": [
      "All tests passed\n"
     ]
    }
   ],
   "source": [
    "def test_dataset(data: OptSimilaritiesDataset):\n",
    "    X, Y, blocks = [], [], []\n",
    "    first_sample_len = len(list(Path('./data/block0/0').iterdir())) \n",
    "    for idx in range(first_sample_len + 1):\n",
    "        x, y, block = data[idx] \n",
    "        X.append(x)\n",
    "        Y.append(y)\n",
    "        blocks.append(block)\n",
    "\n",
    "    x0 = torch.load('./data/block0/0/0.pt')\n",
    "    assert torch.allclose(x0, X[0]), 'Wrong x values'\n",
    "    assert blocks[0] == 0, 'Wrong block value'\n",
    "\n",
    "    x1 = torch.load('./data/block0/0/1.pt')\n",
    "    assert torch.allclose(x1, X[1]), 'Wrong x values'\n",
    "    assert blocks[1] == 0, 'Wrong block value'\n",
    "\n",
    "    x2 = torch.load('./data/block0/1/0.pt')\n",
    "    assert torch.allclose(x2, X[first_sample_len]), 'Wrong x values'\n",
    "    assert blocks[first_sample_len] == 0, 'Wrong block values'\n",
    "\n",
    "    y0 = F.cosine_similarity(\n",
    "        torch.load('./data/block1/0/0.pt'),\n",
    "        torch.load(f'./data/block{data.n + 1}/0/0.pt'),\n",
    "        dim=-1\n",
    "    )\n",
    "    assert torch.isclose(Y[0], y0), 'Wrong y values'\n",
    "\n",
    "    y1 = F.cosine_similarity(\n",
    "        torch.load('./data/block1/0/1.pt'),\n",
    "        torch.load(f'./data/block{data.n + 1}/0/1.pt'),\n",
    "        dim=-1\n",
    "    )\n",
    "    assert torch.isclose(Y[1], y1), 'Wrong y values'\n",
    "\n",
    "    y2 = F.cosine_similarity(\n",
    "        torch.load('./data/block1/1/0.pt'),\n",
    "        torch.load(f'./data/block{data.n + 1}/1/0.pt'),\n",
    "        dim=-1\n",
    "    )\n",
    "    assert torch.isclose(Y[first_sample_len], y2), 'Wrong y values'\n",
    "\n",
    "test_dataset(data)\n",
    "print('All tests passed')"
   ]
  },
  {
   "cell_type": "code",
   "execution_count": 26,
   "metadata": {},
   "outputs": [],
   "source": [
    "@dataclass \n",
    "class MlpConfig:\n",
    "    input_size: int\n",
    "    output_size: int\n",
    "    hidden_size: Optional[int] \n",
    "\n",
    "class LogReg(nn.Module):\n",
    "    def __init__(self, config: MlpConfig):\n",
    "        super(LogReg, self).__init__()\n",
    "        self.fc = nn.Linear(config.input_size, config.output_size)\n",
    "        self.sigmoid = nn.Sigmoid()\n",
    "    \n",
    "    def forward(self, x, *args):\n",
    "        return self.sigmoid(self.fc(x))\n",
    "\n",
    "class SimpleMLP(nn.Module):\n",
    "    def __init__(self, config: MlpConfig):\n",
    "        super(SimpleMLP, self).__init__()\n",
    "        assert config.hidden_size is not None \n",
    "\n",
    "        self.fc1 = nn.Linear(config.input_size, config.hidden_size)\n",
    "        self.relu = nn.ReLU()\n",
    "        self.fc2 = nn.Linear(config.hidden_size, config.output_size)\n",
    "        self.sigmoid = nn.Sigmoid()\n",
    "    \n",
    "    def forward(self, x, *args):\n",
    "        # ignore args just to be compatible with PerBlockMlp\n",
    "        out = self.fc1(x)\n",
    "        out = self.relu(out)\n",
    "        out = self.fc2(out)\n",
    "        out = self.sigmoid(out)\n",
    "        return out\n",
    "\n",
    "class PerBlockNet(nn.Module):\n",
    "    def __init__(self, num_blocks: int, config: MlpConfig, block_net_cls: Callable[[MlpConfig], nn.Module]):\n",
    "        super(PerBlockNet, self).__init__()\n",
    "        self.num_blocks = num_blocks\n",
    "        self.mlps = nn.ModuleList([block_net_cls(config) for _ in range(num_blocks)])\n",
    "    \n",
    "    def forward(self, x, blocks):\n",
    "        out = torch.zeros(x.size(0))\n",
    "        for idx, (xi, block) in enumerate(zip(x, blocks)):\n",
    "            out[idx] = self.mlps[block](xi)\n",
    "        \n",
    "        return out.view(-1, 1) "
   ]
  },
  {
   "cell_type": "code",
   "execution_count": 27,
   "metadata": {},
   "outputs": [],
   "source": [
    "@torch.no_grad\n",
    "def measure_loss(model, criterion, loader, device):\n",
    "    model.eval()\n",
    "    epoch_loss = 0\n",
    "    for inputs, labels, blocks in loader:\n",
    "        inputs = inputs.to(device)\n",
    "        labels = labels.to(device)\n",
    "\n",
    "        outputs = model(inputs, blocks).to(device)\n",
    "        loss = criterion(outputs, labels)\n",
    "\n",
    "        batch_size = outputs.numel()\n",
    "        epoch_loss += loss.item() * batch_size / len(loader.dataset)\n",
    "\n",
    "    return epoch_loss"
   ]
  },
  {
   "cell_type": "code",
   "execution_count": 28,
   "metadata": {},
   "outputs": [
    {
     "name": "stdout",
     "output_type": "stream",
     "text": [
      "torch.Size([2048, 1])\n",
      "62.5 µs ± 1.72 µs per loop (mean ± std. dev. of 7 runs, 1,000 loops each)\n"
     ]
    }
   ],
   "source": [
    "x1 = torch.randn((768, 1)).to('cuda')\n",
    "M1 = torch.randn((2048, 768)).to('cuda')\n",
    "print((M1 @ x1).shape)\n",
    "%timeit M1 @ x1 "
   ]
  },
  {
   "cell_type": "code",
   "execution_count": 29,
   "metadata": {},
   "outputs": [
    {
     "name": "stdout",
     "output_type": "stream",
     "text": [
      "torch.Size([64, 1])\n",
      "19.7 µs ± 2.3 µs per loop (mean ± std. dev. of 7 runs, 100,000 loops each)\n"
     ]
    }
   ],
   "source": [
    "x2 = torch.randn((768, 1)).to('cuda')\n",
    "M2 = torch.randn((64, 768)).to('cuda')\n",
    "print((M2 @ x2).shape)\n",
    "%timeit M2 @ x2 "
   ]
  },
  {
   "cell_type": "code",
   "execution_count": 8,
   "metadata": {},
   "outputs": [],
   "source": [
    "def train_mlp(train_loader: DataLoader, val_loader: DataLoader, \n",
    "              model: SimpleMLP, criterion: Callable[[torch.Tensor, torch.Tensor], torch.Tensor], \n",
    "              num_epochs: int, device):\n",
    "    optimizer = torch.optim.Adam(model.parameters(), lr=1e-3)\n",
    "    \n",
    "    for epoch in tqdm(range(num_epochs)):\n",
    "        model.train()  \n",
    "        epoch_loss = 0\n",
    "        for inputs, labels, blocks in train_loader:\n",
    "            inputs = inputs.to(device)\n",
    "            labels = labels.to(device)\n",
    "            blocks = blocks.to(device)\n",
    "\n",
    "            outputs = model(inputs, blocks).to(device)\n",
    "            loss = criterion(outputs, labels)\n",
    "\n",
    "            optimizer.zero_grad()\n",
    "            loss.backward()\n",
    "            optimizer.step()\n",
    "\n",
    "            batch_size = outputs.numel()\n",
    "            epoch_loss += loss.item() * batch_size / len(train_loader.dataset)\n",
    "\n",
    "        print(f'Epoch {epoch}: train_loss={epoch_loss:.4e}, val_loss={measure_loss(model, criterion, val_loader, device):.4e}') \n",
    "    \n",
    "    return model"
   ]
  },
  {
   "cell_type": "code",
   "execution_count": 9,
   "metadata": {},
   "outputs": [],
   "source": [
    "N = len(data)\n",
    "test_len = int(N * 0.3)\n",
    "train_and_val_data, test_data = random_split(data, [N - test_len, test_len])\n",
    "\n",
    "batch_size = 16\n",
    "test_loader = DataLoader(test_data, batch_size=batch_size, shuffle=False)\n",
    "\n",
    "config = MlpConfig(\n",
    "    input_size=768,\n",
    "    hidden_size=256,\n",
    "    output_size=1\n",
    ")"
   ]
  },
  {
   "cell_type": "code",
   "execution_count": 10,
   "metadata": {},
   "outputs": [
    {
     "data": {
      "application/vnd.jupyter.widget-view+json": {
       "model_id": "20b76d0657e74d07b68da4acb7a97418",
       "version_major": 2,
       "version_minor": 0
      },
      "text/plain": [
       "  0%|          | 0/4 [00:00<?, ?it/s]"
      ]
     },
     "metadata": {},
     "output_type": "display_data"
    },
    {
     "name": "stdout",
     "output_type": "stream",
     "text": [
      "Epoch 0: train_loss=1.9969e-03, val_loss=7.1503e-04\n",
      "Epoch 1: train_loss=6.1428e-04, val_loss=6.5120e-04\n",
      "Epoch 2: train_loss=5.5819e-04, val_loss=6.0509e-04\n",
      "Epoch 3: train_loss=2.6430e-04, val_loss=2.4792e-04\n",
      "train_ratio=0.6, test loss = 2.3287e-04\n"
     ]
    }
   ],
   "source": [
    "for train_ratio in [0.6]: # torch.linspace(0.1, 0.6, 6):\n",
    "    train_len = int(N * train_ratio)\n",
    "    train_data, val_data = random_split(train_and_val_data, [train_len, N - train_len - test_len])\n",
    "\n",
    "    train_loader = DataLoader(train_data, batch_size=batch_size, shuffle=True)\n",
    "    val_loader = DataLoader(val_data, batch_size=batch_size, shuffle=True)\n",
    "\n",
    "    device = 'cuda'\n",
    "    model = PerBlockNet(data.per_sample_len, config, SimpleMLP) \n",
    "    model = model.to(device)\n",
    "    criterion = nn.MSELoss() \n",
    "    model = train_mlp(train_loader, val_loader, model, criterion, 4, device)\n",
    "\n",
    "    print(f'{train_ratio=}, test loss = {measure_loss(model, criterion, test_loader, device):.4e}')"
   ]
  },
  {
   "cell_type": "code",
   "execution_count": 11,
   "metadata": {},
   "outputs": [],
   "source": [
    "per_block = [[] for _ in range(data.per_sample_len)]\n",
    "\n",
    "for inputs, labels, blocks in test_loader:\n",
    "    inputs = inputs.to(device)\n",
    "    outputs = model(inputs, blocks)\n",
    "    for block, out in zip(blocks, outputs):\n",
    "        per_block[block].append(out.item())"
   ]
  },
  {
   "cell_type": "code",
   "execution_count": 12,
   "metadata": {},
   "outputs": [
    {
     "name": "stdout",
     "output_type": "stream",
     "text": [
      "0 6903\n",
      "1 6913\n",
      "2 6901\n",
      "3 6924\n",
      "4 6774\n",
      "5 6937\n",
      "6 6966\n",
      "7 6967\n",
      "8 6851\n",
      "9 6864\n",
      "10 6853\n"
     ]
    }
   ],
   "source": [
    "for idx, x in enumerate(per_block):\n",
    "    print(idx, len(x))"
   ]
  },
  {
   "cell_type": "code",
   "execution_count": 13,
   "metadata": {},
   "outputs": [
    {
     "data": {
      "text/plain": [
       "<seaborn.axisgrid.FacetGrid at 0x7f2fcade5870>"
      ]
     },
     "execution_count": 13,
     "metadata": {},
     "output_type": "execute_result"
    },
    {
     "data": {
      "image/png": "[encoded data removed]",
      "text/plain": [
       "<Figure size 500x500 with 1 Axes>"
      ]
     },
     "metadata": {},
     "output_type": "display_data"
    }
   ],
   "source": [
    "import seaborn as sns\n",
    "\n",
    "sns.displot(per_block[-1])"
   ]
  },
  {
   "cell_type": "code",
   "execution_count": 14,
   "metadata": {},
   "outputs": [
    {
     "data": {
      "application/vnd.jupyter.widget-view+json": {
       "model_id": "d252a070e68f4e24b6843a28d23880a8",
       "version_major": 2,
       "version_minor": 0
      },
      "text/plain": [
       "  0%|          | 0/4 [00:00<?, ?it/s]"
      ]
     },
     "metadata": {},
     "output_type": "display_data"
    },
    {
     "name": "stdout",
     "output_type": "stream",
     "text": [
      "Epoch 0: train_loss=1.2427e-03, val_loss=7.5521e-04\n",
      "Epoch 1: train_loss=6.8460e-04, val_loss=7.0650e-04\n",
      "Epoch 2: train_loss=6.3340e-04, val_loss=6.8544e-04\n",
      "Epoch 3: train_loss=6.1419e-04, val_loss=6.8029e-04\n"
     ]
    },
    {
     "data": {
      "text/plain": [
       "0.0006169476327223334"
      ]
     },
     "execution_count": 14,
     "metadata": {},
     "output_type": "execute_result"
    }
   ],
   "source": [
    "simple_model = SimpleMLP(config).to(device)\n",
    "train_mlp(train_loader, val_loader, simple_model, criterion, 4, device)\n",
    "measure_loss(simple_model, criterion, test_loader, device)"
   ]
  },
  {
   "cell_type": "code",
   "execution_count": 15,
   "metadata": {},
   "outputs": [],
   "source": [
    "per_block_simple = [[] for _ in range(data.per_sample_len)]\n",
    "\n",
    "for inputs, labels, blocks in train_loader:\n",
    "    inputs = inputs.to(device)\n",
    "    outputs = simple_model(inputs, blocks)\n",
    "    for block, out in zip(blocks, outputs):\n",
    "        per_block_simple[block].append(out.item())"
   ]
  },
  {
   "cell_type": "code",
   "execution_count": 16,
   "metadata": {},
   "outputs": [
    {
     "data": {
      "text/plain": [
       "<seaborn.axisgrid.FacetGrid at 0x7f2fcac780a0>"
      ]
     },
     "execution_count": 16,
     "metadata": {},
     "output_type": "execute_result"
    },
    {
     "data": {
      "image/png": "[encoded data removed]",
      "text/plain": [
       "<Figure size 500x500 with 1 Axes>"
      ]
     },
     "metadata": {},
     "output_type": "display_data"
    }
   ],
   "source": [
    "sns.displot(per_block_simple[-1])"
   ]
  },
  {
   "cell_type": "code",
   "execution_count": 17,
   "metadata": {},
   "outputs": [],
   "source": [
    "per_block_actual = [[] for _ in range(data.per_sample_len)]\n",
    "for _, y, blocks in train_loader:\n",
    "    for block, sim in zip(blocks, y):\n",
    "        per_block_actual[block].append(sim.item())"
   ]
  },
  {
   "cell_type": "code",
   "execution_count": 18,
   "metadata": {},
   "outputs": [
    {
     "data": {
      "text/plain": [
       "<seaborn.axisgrid.FacetGrid at 0x7f2fc2a69090>"
      ]
     },
     "execution_count": 18,
     "metadata": {},
     "output_type": "execute_result"
    },
    {
     "data": {
      "image/png": "[encoded data removed]",
      "text/plain": [
       "<Figure size 558.875x500 with 1 Axes>"
      ]
     },
     "metadata": {},
     "output_type": "display_data"
    }
   ],
   "source": [
    "sns.displot(per_block_actual[:5]) "
   ]
  },
  {
   "cell_type": "code",
   "execution_count": 19,
   "metadata": {},
   "outputs": [
    {
     "data": {
      "text/plain": [
       "<seaborn.axisgrid.FacetGrid at 0x7f2fc17c2650>"
      ]
     },
     "execution_count": 19,
     "metadata": {},
     "output_type": "execute_result"
    },
    {
     "data": {
      "image/png": "[encoded data removed]",
      "text/plain": [
       "<Figure size 558.875x500 with 1 Axes>"
      ]
     },
     "metadata": {},
     "output_type": "display_data"
    }
   ],
   "source": [
    "sns.displot(per_block_actual[-5:])"
   ]
  },
  {
   "cell_type": "code",
   "execution_count": 20,
   "metadata": {},
   "outputs": [
    {
     "name": "stdout",
     "output_type": "stream",
     "text": [
      "0 tensor(0.9422)\n",
      "1 tensor(0.9614)\n",
      "2 tensor(0.9707)\n",
      "3 tensor(0.9581)\n",
      "4 tensor(0.9498)\n",
      "5 tensor(0.9488)\n",
      "6 tensor(0.9474)\n",
      "7 tensor(0.9340)\n",
      "8 tensor(0.9242)\n",
      "9 tensor(0.9290)\n",
      "10 tensor(0.9022)\n"
     ]
    }
   ],
   "source": [
    "for idx, x in enumerate(per_block_actual):\n",
    "    print(idx, torch.tensor([x]).mean())"
   ]
  },
  {
   "cell_type": "code",
   "execution_count": 24,
   "metadata": {},
   "outputs": [
    {
     "data": {
      "application/vnd.jupyter.widget-view+json": {
       "model_id": "af1c2d265aac4091a51467d999dca2d2",
       "version_major": 2,
       "version_minor": 0
      },
      "text/plain": [
       "  0%|          | 0/4 [00:00<?, ?it/s]"
      ]
     },
     "metadata": {},
     "output_type": "display_data"
    },
    {
     "name": "stdout",
     "output_type": "stream",
     "text": [
      "Epoch 0: train_loss=1.1074e-02, val_loss=7.0984e-03\n",
      "Epoch 1: train_loss=6.7690e-03, val_loss=6.9322e-03\n",
      "Epoch 2: train_loss=6.7108e-03, val_loss=6.9195e-03\n",
      "Epoch 3: train_loss=6.7034e-03, val_loss=6.9160e-03\n"
     ]
    },
    {
     "data": {
      "text/plain": [
       "0.006581574833397099"
      ]
     },
     "execution_count": 24,
     "metadata": {},
     "output_type": "execute_result"
    }
   ],
   "source": [
    "logreg = LogReg(config).to(device)\n",
    "train_mlp(train_loader, val_loader, logreg, criterion, 4, device)\n",
    "measure_loss(logreg, criterion, test_loader, device)"
   ]
  },
  {
   "cell_type": "code",
   "execution_count": 25,
   "metadata": {},
   "outputs": [
    {
     "data": {
      "application/vnd.jupyter.widget-view+json": {
       "model_id": "5f10943d57d642178baa7dd0b87c3a63",
       "version_major": 2,
       "version_minor": 0
      },
      "text/plain": [
       "  0%|          | 0/4 [00:00<?, ?it/s]"
      ]
     },
     "metadata": {},
     "output_type": "display_data"
    },
    {
     "name": "stdout",
     "output_type": "stream",
     "text": [
      "Epoch 0: train_loss=8.5466e-03, val_loss=3.5857e-03\n",
      "Epoch 1: train_loss=3.0165e-03, val_loss=3.5036e-03\n",
      "Epoch 2: train_loss=2.9854e-03, val_loss=3.4965e-03\n",
      "Epoch 3: train_loss=2.9800e-03, val_loss=3.4979e-03\n"
     ]
    },
    {
     "data": {
      "text/plain": [
       "0.0028872928118423413"
      ]
     },
     "execution_count": 25,
     "metadata": {},
     "output_type": "execute_result"
    }
   ],
   "source": [
    "logreg_better = PerBlockNet(data.per_sample_len, config, LogReg).to(device)\n",
    "train_mlp(train_loader, val_loader, logreg_better, criterion, 4, device)\n",
    "measure_loss(logreg_better, criterion, test_loader, device)"
   ]
  },
  {
   "cell_type": "code",
   "execution_count": null,
   "metadata": {},
   "outputs": [],
   "source": []
  },
  {
   "cell_type": "code",
   "execution_count": 21,
   "metadata": {},
   "outputs": [],
   "source": []
  },
  {
   "cell_type": "code",
   "execution_count": null,
   "metadata": {},
   "outputs": [],
   "source": []
  }
 ],
 "metadata": {
  "kernelspec": {
   "display_name": "nlp",
   "language": "python",
   "name": "python3"
  },
  "language_info": {
   "codemirror_mode": {
    "name": "ipython",
    "version": 3
   },
   "file_extension": ".py",
   "mimetype": "text/x-python",
   "name": "python",
   "nbconvert_exporter": "python",
   "pygments_lexer": "ipython3",
   "version": "3.1.undefined"
  }
 },
 "nbformat": 4,
 "nbformat_minor": 2
}
