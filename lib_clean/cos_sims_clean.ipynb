{
 "cells": [
  {
   "cell_type": "markdown",
   "metadata": {},
   "source": [
    "The goal of this notebook is analyze the cosine similarities of outputs of consecutive layers and see if we can build models to predict those similarities from input embeddings. The idea is that we can get rid of layers with high cosine similarity. Inspired by [\"The Unreasonable Inefectiveness of the Deeper Layers\"](https://arxiv.org/pdf/2403.17887v1)"
   ]
  },
  {
   "cell_type": "code",
   "execution_count": 1,
   "metadata": {},
   "outputs": [],
   "source": [
    "from pathlib import Path\n",
    "from typing import Callable, Optional\n",
    "from dataclasses import dataclass\n",
    "\n",
    "from opt_sim_dataset import OptSimilaritiesDataset\n",
    "\n",
    "import torch\n",
    "import torch.nn as nn\n",
    "import torch.nn.functional as F \n",
    "from torch.utils.data import DataLoader, random_split\n",
    "\n",
    "from tqdm.notebook import tqdm"
   ]
  },
  {
   "cell_type": "code",
   "execution_count": 2,
   "metadata": {},
   "outputs": [
    {
     "name": "stdout",
     "output_type": "stream",
     "text": [
      "25 896\n"
     ]
    }
   ],
   "source": [
    "data_path = Path('./data_qwen')\n",
    "num_blocks = len(list(data_path.iterdir()))\n",
    "data = OptSimilaritiesDataset(data_path, num_blocks, 100, 1)\n",
    "hidden_size = data[0][0].numel()\n",
    "print(num_blocks, hidden_size)"
   ]
  },
  {
   "cell_type": "code",
   "execution_count": 3,
   "metadata": {},
   "outputs": [
    {
     "ename": "RuntimeError",
     "evalue": "The size of tensor a (768) must match the size of tensor b (896) at non-singleton dimension 2",
     "output_type": "error",
     "traceback": [
      "\u001b[0;31m---------------------------------------------------------------------------\u001b[0m",
      "\u001b[0;31mRuntimeError\u001b[0m                              Traceback (most recent call last)",
      "Cell \u001b[0;32mIn[3], line 43\u001b[0m\n\u001b[1;32m     36\u001b[0m     y2 \u001b[38;5;241m=\u001b[39m F\u001b[38;5;241m.\u001b[39mcosine_similarity(\n\u001b[1;32m     37\u001b[0m         torch\u001b[38;5;241m.\u001b[39mload(\u001b[38;5;124m'\u001b[39m\u001b[38;5;124m./data/block1/1/0.pt\u001b[39m\u001b[38;5;124m'\u001b[39m),\n\u001b[1;32m     38\u001b[0m         torch\u001b[38;5;241m.\u001b[39mload(\u001b[38;5;124mf\u001b[39m\u001b[38;5;124m'\u001b[39m\u001b[38;5;124m./data/block\u001b[39m\u001b[38;5;132;01m{\u001b[39;00mdata\u001b[38;5;241m.\u001b[39mn\u001b[38;5;250m \u001b[39m\u001b[38;5;241m+\u001b[39m\u001b[38;5;250m \u001b[39m\u001b[38;5;241m1\u001b[39m\u001b[38;5;132;01m}\u001b[39;00m\u001b[38;5;124m/1/0.pt\u001b[39m\u001b[38;5;124m'\u001b[39m),\n\u001b[1;32m     39\u001b[0m         dim\u001b[38;5;241m=\u001b[39m\u001b[38;5;241m-\u001b[39m\u001b[38;5;241m1\u001b[39m\n\u001b[1;32m     40\u001b[0m     )\n\u001b[1;32m     41\u001b[0m     \u001b[38;5;28;01massert\u001b[39;00m torch\u001b[38;5;241m.\u001b[39misclose(Y[first_sample_len], y2), \u001b[38;5;124m'\u001b[39m\u001b[38;5;124mWrong y values\u001b[39m\u001b[38;5;124m'\u001b[39m\n\u001b[0;32m---> 43\u001b[0m \u001b[43mtest_dataset\u001b[49m\u001b[43m(\u001b[49m\u001b[43mdata\u001b[49m\u001b[43m)\u001b[49m\n\u001b[1;32m     44\u001b[0m \u001b[38;5;28mprint\u001b[39m(\u001b[38;5;124m'\u001b[39m\u001b[38;5;124mAll tests passed\u001b[39m\u001b[38;5;124m'\u001b[39m)\n",
      "Cell \u001b[0;32mIn[3], line 11\u001b[0m, in \u001b[0;36mtest_dataset\u001b[0;34m(data)\u001b[0m\n\u001b[1;32m      8\u001b[0m     blocks\u001b[38;5;241m.\u001b[39mappend(block)\n\u001b[1;32m     10\u001b[0m x0 \u001b[38;5;241m=\u001b[39m torch\u001b[38;5;241m.\u001b[39mload(\u001b[38;5;124m'\u001b[39m\u001b[38;5;124m./data/block0/0/0.pt\u001b[39m\u001b[38;5;124m'\u001b[39m)\n\u001b[0;32m---> 11\u001b[0m \u001b[38;5;28;01massert\u001b[39;00m \u001b[43mtorch\u001b[49m\u001b[38;5;241;43m.\u001b[39;49m\u001b[43mallclose\u001b[49m\u001b[43m(\u001b[49m\u001b[43mx0\u001b[49m\u001b[43m,\u001b[49m\u001b[43m \u001b[49m\u001b[43mX\u001b[49m\u001b[43m[\u001b[49m\u001b[38;5;241;43m0\u001b[39;49m\u001b[43m]\u001b[49m\u001b[43m)\u001b[49m, \u001b[38;5;124m'\u001b[39m\u001b[38;5;124mWrong x values\u001b[39m\u001b[38;5;124m'\u001b[39m\n\u001b[1;32m     12\u001b[0m \u001b[38;5;28;01massert\u001b[39;00m blocks[\u001b[38;5;241m0\u001b[39m] \u001b[38;5;241m==\u001b[39m \u001b[38;5;241m0\u001b[39m, \u001b[38;5;124m'\u001b[39m\u001b[38;5;124mWrong block value\u001b[39m\u001b[38;5;124m'\u001b[39m\n\u001b[1;32m     14\u001b[0m x1 \u001b[38;5;241m=\u001b[39m torch\u001b[38;5;241m.\u001b[39mload(\u001b[38;5;124m'\u001b[39m\u001b[38;5;124m./data/block0/0/1.pt\u001b[39m\u001b[38;5;124m'\u001b[39m)\n",
      "\u001b[0;31mRuntimeError\u001b[0m: The size of tensor a (768) must match the size of tensor b (896) at non-singleton dimension 2"
     ]
    }
   ],
   "source": [
    "def test_dataset(data: OptSimilaritiesDataset):\n",
    "    X, Y, blocks = [], [], []\n",
    "    first_sample_len = len(list(Path('./data/block0/0').iterdir())) \n",
    "    for idx in range(first_sample_len + 1):\n",
    "        x, y, block = data[idx] \n",
    "        X.append(x)\n",
    "        Y.append(y)\n",
    "        blocks.append(block)\n",
    "\n",
    "    x0 = torch.load('./data/block0/0/0.pt')\n",
    "    assert torch.allclose(x0, X[0]), 'Wrong x values'\n",
    "    assert blocks[0] == 0, 'Wrong block value'\n",
    "\n",
    "    x1 = torch.load('./data/block0/0/1.pt')\n",
    "    assert torch.allclose(x1, X[1]), 'Wrong x values'\n",
    "    assert blocks[1] == 0, 'Wrong block value'\n",
    "\n",
    "    x2 = torch.load('./data/block0/1/0.pt')\n",
    "    assert torch.allclose(x2, X[first_sample_len]), 'Wrong x values'\n",
    "    assert blocks[first_sample_len] == 0, 'Wrong block values'\n",
    "\n",
    "    y0 = F.cosine_similarity(\n",
    "        torch.load('./data/block1/0/0.pt'),\n",
    "        torch.load(f'./data/block{data.n + 1}/0/0.pt'),\n",
    "        dim=-1\n",
    "    )\n",
    "    assert torch.isclose(Y[0], y0), 'Wrong y values'\n",
    "\n",
    "    y1 = F.cosine_similarity(\n",
    "        torch.load('./data/block1/0/1.pt'),\n",
    "        torch.load(f'./data/block{data.n + 1}/0/1.pt'),\n",
    "        dim=-1\n",
    "    )\n",
    "    assert torch.isclose(Y[1], y1), 'Wrong y values'\n",
    "\n",
    "    y2 = F.cosine_similarity(\n",
    "        torch.load('./data/block1/1/0.pt'),\n",
    "        torch.load(f'./data/block{data.n + 1}/1/0.pt'),\n",
    "        dim=-1\n",
    "    )\n",
    "    assert torch.isclose(Y[first_sample_len], y2), 'Wrong y values'\n",
    "\n",
    "test_dataset(data)\n",
    "print('All tests passed')"
   ]
  },
  {
   "cell_type": "code",
   "execution_count": 4,
   "metadata": {},
   "outputs": [],
   "source": [
    "@dataclass \n",
    "class MlpConfig:\n",
    "    input_size: int\n",
    "    output_size: int\n",
    "    hidden_size: Optional[int] \n",
    "\n",
    "class LogReg(nn.Module):\n",
    "    def __init__(self, config: MlpConfig):\n",
    "        super(LogReg, self).__init__()\n",
    "        self.fc = nn.Linear(config.input_size, config.output_size)\n",
    "        self.sigmoid = nn.Sigmoid()\n",
    "    \n",
    "    def forward(self, x, *args):\n",
    "        return self.sigmoid(self.fc(x))\n",
    "\n",
    "class SimpleMLP(nn.Module):\n",
    "    def __init__(self, config: MlpConfig):\n",
    "        super(SimpleMLP, self).__init__()\n",
    "        assert config.hidden_size is not None \n",
    "\n",
    "        self.fc1 = nn.Linear(config.input_size, config.hidden_size)\n",
    "        self.relu = nn.ReLU()\n",
    "        self.fc2 = nn.Linear(config.hidden_size, config.output_size)\n",
    "        self.sigmoid = nn.Sigmoid()\n",
    "    \n",
    "    def forward(self, x, *args):\n",
    "        # ignore args just to be compatible with PerBlockMlp\n",
    "        out = self.fc1(x)\n",
    "        out = self.relu(out)\n",
    "        out = self.fc2(out)\n",
    "        out = self.sigmoid(out)\n",
    "        return out\n",
    "\n",
    "class PerBlockNet(nn.Module):\n",
    "    def __init__(self, num_blocks: int, config: MlpConfig, block_net_cls: Callable[[MlpConfig], nn.Module]):\n",
    "        super(PerBlockNet, self).__init__()\n",
    "        self.num_blocks = num_blocks\n",
    "        self.mlps = nn.ModuleList([block_net_cls(config) for _ in range(num_blocks)])\n",
    "    \n",
    "    def forward(self, x, blocks):\n",
    "        out = torch.zeros(x.size(0))\n",
    "        for idx, (xi, block) in enumerate(zip(x, blocks)):\n",
    "            out[idx] = self.mlps[block](xi)\n",
    "        \n",
    "        return out.view(-1, 1) "
   ]
  },
  {
   "cell_type": "code",
   "execution_count": 5,
   "metadata": {},
   "outputs": [],
   "source": [
    "@torch.no_grad\n",
    "def measure_loss(model, criterion, loader, device):\n",
    "    model.eval()\n",
    "    epoch_loss = 0\n",
    "    for inputs, labels, blocks in loader:\n",
    "        inputs = inputs.to(device)\n",
    "        labels = labels.to(device)\n",
    "\n",
    "        outputs = model(inputs, blocks).to(device)\n",
    "        loss = criterion(outputs, labels)\n",
    "\n",
    "        batch_size = outputs.numel()\n",
    "        epoch_loss += loss.item() * batch_size / len(loader.dataset)\n",
    "\n",
    "    return epoch_loss"
   ]
  },
  {
   "cell_type": "code",
   "execution_count": 6,
   "metadata": {},
   "outputs": [],
   "source": [
    "def train_mlp(train_loader: DataLoader, val_loader: DataLoader, \n",
    "              model: SimpleMLP, criterion: Callable[[torch.Tensor, torch.Tensor], torch.Tensor], \n",
    "              num_epochs: int, device):\n",
    "    optimizer = torch.optim.Adam(model.parameters(), lr=1e-3)\n",
    "    \n",
    "    for epoch in tqdm(range(num_epochs)):\n",
    "        model.train()  \n",
    "        epoch_loss = 0\n",
    "        for inputs, labels, blocks in train_loader:\n",
    "            inputs = inputs.to(device)\n",
    "            labels = labels.to(device)\n",
    "            blocks = blocks.to(device)\n",
    "\n",
    "            outputs = model(inputs, blocks).to(device)\n",
    "            loss = criterion(outputs, labels)\n",
    "\n",
    "            optimizer.zero_grad()\n",
    "            loss.backward()\n",
    "            optimizer.step()\n",
    "\n",
    "            batch_size = outputs.numel()\n",
    "            epoch_loss += loss.item() * batch_size / len(train_loader.dataset)\n",
    "\n",
    "        print(f'Epoch {epoch}: train_loss={epoch_loss:.4e}, val_loss={measure_loss(model, criterion, val_loader, device):.4e}') \n",
    "    \n",
    "    return model"
   ]
  },
  {
   "cell_type": "code",
   "execution_count": 7,
   "metadata": {},
   "outputs": [],
   "source": [
    "N = len(data)\n",
    "test_len = int(N * 0.3)\n",
    "train_and_val_data, test_data = random_split(data, [N - test_len, test_len])\n",
    "\n",
    "batch_size = 16\n",
    "test_loader = DataLoader(test_data, batch_size=batch_size, shuffle=False)\n",
    "\n",
    "config = MlpConfig(\n",
    "    input_size=hidden_size,\n",
    "    hidden_size=256,\n",
    "    output_size=1\n",
    ")"
   ]
  },
  {
   "cell_type": "code",
   "execution_count": 8,
   "metadata": {},
   "outputs": [
    {
     "data": {
      "application/vnd.jupyter.widget-view+json": {
       "model_id": "7f6b22f7e3bf4997ab9442a303cea453",
       "version_major": 2,
       "version_minor": 0
      },
      "text/plain": [
       "  0%|          | 0/4 [00:00<?, ?it/s]"
      ]
     },
     "metadata": {},
     "output_type": "display_data"
    },
    {
     "name": "stdout",
     "output_type": "stream",
     "text": [
      "Epoch 0: train_loss=1.8446e-03, val_loss=8.4794e-04\n",
      "Epoch 1: train_loss=8.0559e-04, val_loss=8.4836e-04\n",
      "Epoch 2: train_loss=7.1139e-04, val_loss=8.3263e-04\n",
      "Epoch 3: train_loss=7.2329e-04, val_loss=8.6650e-04\n",
      "train_ratio=0.6, test loss = 8.0510e-04\n"
     ]
    }
   ],
   "source": [
    "for train_ratio in [0.6]: # torch.linspace(0.1, 0.6, 6):\n",
    "    train_len = int(N * train_ratio)\n",
    "    train_data, val_data = random_split(train_and_val_data, [train_len, N - train_len - test_len])\n",
    "\n",
    "    train_loader = DataLoader(train_data, batch_size=batch_size, shuffle=True)\n",
    "    val_loader = DataLoader(val_data, batch_size=batch_size, shuffle=True)\n",
    "\n",
    "    device = 'cuda'\n",
    "    model = PerBlockNet(data.per_sample_len, config, SimpleMLP) \n",
    "    model = model.to(device)\n",
    "    criterion = nn.MSELoss() \n",
    "    model = train_mlp(train_loader, val_loader, model, criterion, 4, device)\n",
    "\n",
    "    print(f'{train_ratio=}, test loss = {measure_loss(model, criterion, test_loader, device):.4e}')"
   ]
  },
  {
   "cell_type": "code",
   "execution_count": 9,
   "metadata": {},
   "outputs": [],
   "source": [
    "per_block = [[] for _ in range(data.per_sample_len)]\n",
    "\n",
    "for inputs, labels, blocks in test_loader:\n",
    "    inputs = inputs.to(device)\n",
    "    outputs = model(inputs, blocks)\n",
    "    for block, out in zip(blocks, outputs):\n",
    "        per_block[block].append(out.item())"
   ]
  },
  {
   "cell_type": "code",
   "execution_count": 10,
   "metadata": {},
   "outputs": [
    {
     "name": "stdout",
     "output_type": "stream",
     "text": [
      "0 1455\n",
      "1 1439\n",
      "2 1503\n",
      "3 1482\n",
      "4 1515\n",
      "5 1467\n",
      "6 1448\n",
      "7 1491\n",
      "8 1513\n",
      "9 1531\n",
      "10 1524\n",
      "11 1454\n",
      "12 1533\n",
      "13 1510\n",
      "14 1478\n",
      "15 1475\n",
      "16 1463\n",
      "17 1468\n",
      "18 1469\n",
      "19 1560\n",
      "20 1536\n",
      "21 1459\n",
      "22 1478\n"
     ]
    }
   ],
   "source": [
    "for idx, x in enumerate(per_block):\n",
    "    print(idx, len(x))"
   ]
  },
  {
   "cell_type": "code",
   "execution_count": 11,
   "metadata": {},
   "outputs": [
    {
     "data": {
      "text/plain": [
       "<seaborn.axisgrid.FacetGrid at 0x7f7feff8b910>"
      ]
     },
     "execution_count": 11,
     "metadata": {},
     "output_type": "execute_result"
    },
    {
     "data": {
      "image/png": "[encoded data removed]",
      "text/plain": [
       "<Figure size 500x500 with 1 Axes>"
      ]
     },
     "metadata": {},
     "output_type": "display_data"
    }
   ],
   "source": [
    "import seaborn as sns\n",
    "\n",
    "sns.displot(per_block[-1])"
   ]
  },
  {
   "cell_type": "code",
   "execution_count": 12,
   "metadata": {},
   "outputs": [
    {
     "data": {
      "application/vnd.jupyter.widget-view+json": {
       "model_id": "f86a898d41b84322ba1c4744f5d8e449",
       "version_major": 2,
       "version_minor": 0
      },
      "text/plain": [
       "  0%|          | 0/4 [00:00<?, ?it/s]"
      ]
     },
     "metadata": {},
     "output_type": "display_data"
    },
    {
     "name": "stdout",
     "output_type": "stream",
     "text": [
      "Epoch 0: train_loss=2.3253e-03, val_loss=1.2644e-03\n",
      "Epoch 1: train_loss=1.2110e-03, val_loss=1.1741e-03\n",
      "Epoch 2: train_loss=1.0515e-03, val_loss=1.0560e-03\n",
      "Epoch 3: train_loss=8.6821e-04, val_loss=8.9600e-04\n"
     ]
    },
    {
     "data": {
      "text/plain": [
       "0.0008865180192895916"
      ]
     },
     "execution_count": 12,
     "metadata": {},
     "output_type": "execute_result"
    }
   ],
   "source": [
    "simple_model = SimpleMLP(config).to(device)\n",
    "train_mlp(train_loader, val_loader, simple_model, criterion, 4, device)\n",
    "measure_loss(simple_model, criterion, test_loader, device)"
   ]
  },
  {
   "cell_type": "code",
   "execution_count": 13,
   "metadata": {},
   "outputs": [],
   "source": [
    "per_block_simple = [[] for _ in range(data.per_sample_len)]\n",
    "\n",
    "for inputs, labels, blocks in train_loader:\n",
    "    inputs = inputs.to(device)\n",
    "    outputs = simple_model(inputs, blocks)\n",
    "    for block, out in zip(blocks, outputs):\n",
    "        per_block_simple[block].append(out.item())"
   ]
  },
  {
   "cell_type": "code",
   "execution_count": 14,
   "metadata": {},
   "outputs": [
    {
     "data": {
      "text/plain": [
       "<seaborn.axisgrid.FacetGrid at 0x7f7f846f8280>"
      ]
     },
     "execution_count": 14,
     "metadata": {},
     "output_type": "execute_result"
    },
    {
     "data": {
      "image/png": "[encoded data removed]",
      "text/plain": [
       "<Figure size 500x500 with 1 Axes>"
      ]
     },
     "metadata": {},
     "output_type": "display_data"
    }
   ],
   "source": [
    "sns.displot(per_block_simple[-1])"
   ]
  },
  {
   "cell_type": "code",
   "execution_count": 15,
   "metadata": {},
   "outputs": [],
   "source": [
    "per_block_actual = [[] for _ in range(data.per_sample_len)]\n",
    "for _, y, blocks in train_loader:\n",
    "    for block, sim in zip(blocks, y):\n",
    "        per_block_actual[block].append(sim.item())"
   ]
  },
  {
   "cell_type": "code",
   "execution_count": 16,
   "metadata": {},
   "outputs": [
    {
     "data": {
      "text/plain": [
       "<seaborn.axisgrid.FacetGrid at 0x7f7f7c32a7a0>"
      ]
     },
     "execution_count": 16,
     "metadata": {},
     "output_type": "execute_result"
    },
    {
     "data": {
      "image/png": "[encoded data removed]",
      "text/plain": [
       "<Figure size 558.875x500 with 1 Axes>"
      ]
     },
     "metadata": {},
     "output_type": "display_data"
    }
   ],
   "source": [
    "sns.displot(per_block_actual[:5]) "
   ]
  },
  {
   "cell_type": "code",
   "execution_count": 17,
   "metadata": {},
   "outputs": [
    {
     "data": {
      "text/plain": [
       "<seaborn.axisgrid.FacetGrid at 0x7f7f7c088550>"
      ]
     },
     "execution_count": 17,
     "metadata": {},
     "output_type": "execute_result"
    },
    {
     "data": {
      "image/png": "[encoded data removed]",
      "text/plain": [
       "<Figure size 500x500 with 1 Axes>"
      ]
     },
     "metadata": {},
     "output_type": "display_data"
    }
   ],
   "source": [
    "sns.displot(per_block_actual[-1])"
   ]
  },
  {
   "cell_type": "code",
   "execution_count": 18,
   "metadata": {},
   "outputs": [
    {
     "name": "stdout",
     "output_type": "stream",
     "text": [
      "0 tensor(0.8032)\n",
      "1 tensor(0.8661)\n",
      "2 tensor(0.8671)\n",
      "3 tensor(0.8733)\n",
      "4 tensor(0.8885)\n",
      "5 tensor(0.9005)\n",
      "6 tensor(0.9108)\n",
      "7 tensor(0.9056)\n",
      "8 tensor(0.9345)\n",
      "9 tensor(0.9329)\n",
      "10 tensor(0.9277)\n",
      "11 tensor(0.9334)\n",
      "12 tensor(0.9440)\n",
      "13 tensor(0.9394)\n",
      "14 tensor(0.9284)\n",
      "15 tensor(0.8968)\n",
      "16 tensor(0.9259)\n",
      "17 tensor(0.9596)\n",
      "18 tensor(0.9538)\n",
      "19 tensor(0.9476)\n",
      "20 tensor(0.9550)\n",
      "21 tensor(0.9272)\n",
      "22 tensor(0.7773)\n"
     ]
    }
   ],
   "source": [
    "for idx, x in enumerate(per_block_actual):\n",
    "    print(idx, torch.tensor([x]).mean())"
   ]
  },
  {
   "cell_type": "code",
   "execution_count": 19,
   "metadata": {},
   "outputs": [
    {
     "data": {
      "application/vnd.jupyter.widget-view+json": {
       "model_id": "2e89941a2a564ef8b7b9457e7cb9e56c",
       "version_major": 2,
       "version_minor": 0
      },
      "text/plain": [
       "  0%|          | 0/4 [00:00<?, ?it/s]"
      ]
     },
     "metadata": {},
     "output_type": "display_data"
    },
    {
     "name": "stdout",
     "output_type": "stream",
     "text": [
      "Epoch 0: train_loss=6.2808e-03, val_loss=2.9093e-03\n",
      "Epoch 1: train_loss=2.5461e-03, val_loss=2.3374e-03\n",
      "Epoch 2: train_loss=2.3222e-03, val_loss=2.1097e-03\n",
      "Epoch 3: train_loss=2.2463e-03, val_loss=2.2470e-03\n"
     ]
    },
    {
     "data": {
      "text/plain": [
       "0.0022553363855328757"
      ]
     },
     "execution_count": 19,
     "metadata": {},
     "output_type": "execute_result"
    }
   ],
   "source": [
    "logreg = LogReg(config).to(device)\n",
    "train_mlp(train_loader, val_loader, logreg, criterion, 4, device)\n",
    "measure_loss(logreg, criterion, test_loader, device)"
   ]
  },
  {
   "cell_type": "code",
   "execution_count": 20,
   "metadata": {},
   "outputs": [
    {
     "data": {
      "application/vnd.jupyter.widget-view+json": {
       "model_id": "a22ef872d51b4e5ca85e2d9d1f43b1e3",
       "version_major": 2,
       "version_minor": 0
      },
      "text/plain": [
       "  0%|          | 0/4 [00:00<?, ?it/s]"
      ]
     },
     "metadata": {},
     "output_type": "display_data"
    },
    {
     "name": "stdout",
     "output_type": "stream",
     "text": [
      "Epoch 0: train_loss=5.5650e-03, val_loss=1.4807e-03\n",
      "Epoch 1: train_loss=1.4386e-03, val_loss=1.4482e-03\n",
      "Epoch 2: train_loss=1.4829e-03, val_loss=1.6550e-03\n",
      "Epoch 3: train_loss=1.5884e-03, val_loss=1.7193e-03\n"
     ]
    },
    {
     "data": {
      "text/plain": [
       "0.001690832358307881"
      ]
     },
     "execution_count": 20,
     "metadata": {},
     "output_type": "execute_result"
    }
   ],
   "source": [
    "logreg_better = PerBlockNet(data.per_sample_len, config, LogReg).to(device)\n",
    "train_mlp(train_loader, val_loader, logreg_better, criterion, 4, device)\n",
    "measure_loss(logreg_better, criterion, test_loader, device)"
   ]
  },
  {
   "cell_type": "code",
   "execution_count": null,
   "metadata": {},
   "outputs": [],
   "source": []
  },
  {
   "cell_type": "code",
   "execution_count": null,
   "metadata": {},
   "outputs": [],
   "source": []
  },
  {
   "cell_type": "code",
   "execution_count": null,
   "metadata": {},
   "outputs": [],
   "source": []
  }
 ],
 "metadata": {
  "kernelspec": {
   "display_name": "nlp",
   "language": "python",
   "name": "python3"
  },
  "language_info": {
   "codemirror_mode": {
    "name": "ipython",
    "version": 3
   },
   "file_extension": ".py",
   "mimetype": "text/x-python",
   "name": "python",
   "nbconvert_exporter": "python",
   "pygments_lexer": "ipython3",
   "version": "3.10.13"
  }
 },
 "nbformat": 4,
 "nbformat_minor": 2
}
