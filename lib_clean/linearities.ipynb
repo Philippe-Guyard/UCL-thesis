{
 "cells": [
  {
   "cell_type": "markdown",
   "metadata": {},
   "source": [
    "The idea of this notebook is to study how linear certain layers are. Inspired by [\"Your transformer is secretly linear\"](https://arxiv.org/pdf/2405.12250)"
   ]
  },
  {
   "cell_type": "code",
   "execution_count": 3,
   "metadata": {},
   "outputs": [],
   "source": [
    "from pathlib import Path\n",
    "from typing import Callable, Optional\n",
    "from dataclasses import dataclass\n",
    "\n",
    "from tensor_utils import TensorStorage, ConsecutiveOutputsDataset\n",
    "\n",
    "import torch\n",
    "import torch.nn as nn\n",
    "import torch.nn.functional as F \n",
    "from torch.utils.data import DataLoader, random_split\n",
    "\n",
    "from tqdm.notebook import tqdm"
   ]
  },
  {
   "cell_type": "code",
   "execution_count": 4,
   "metadata": {},
   "outputs": [],
   "source": [
    "def normalize(x): \n",
    "    X = x - x.mean(dim=0, keepdim=True)\n",
    "    return X / X.norm()\n",
    "\n",
    "def get_A_est(X, Y):\n",
    "    U, S, Vh = torch.linalg.svd(X, full_matrices=False)\n",
    "    A_estimation = Vh.T * (1 / S)[None, ...] @ U.T @ Y # Y=XA\n",
    "    return A_estimation\n",
    "\n",
    "def get_est_svd(X, Y):\n",
    "    \"\"\"\n",
    "    X -- torch tensor with shape [n_samples, dim]\n",
    "    Y -- torch tensor with shape [n_samples, dim]\n",
    "\n",
    "    Approximates Y matrix with linear transformation Y = XA\n",
    "    \"\"\"\n",
    "    A_estimation = get_A_est(X, Y) \n",
    "    Y_est =  X @ A_estimation\n",
    "    return Y_est\n",
    "\n",
    "def compute_linearity_score(x, y):\n",
    "    \"\"\"\n",
    "    x -- torch tensor with shape [n_samples, dim]\n",
    "    y -- torch tensor with shape [n_samples, dim]\n",
    "    \"\"\"\n",
    "    with torch.no_grad(): \n",
    "        X, Y = normalize(x), normalize(y)\n",
    "        Y_estimation = get_est_svd(X, Y)\n",
    "    \n",
    "        y_error = (Y_estimation - Y).square().sum()\n",
    "        sim = float(1 - y_error)\n",
    "    return sim"
   ]
  },
  {
   "cell_type": "code",
   "execution_count": 16,
   "metadata": {},
   "outputs": [
    {
     "name": "stdout",
     "output_type": "stream",
     "text": [
      "13 768\n"
     ]
    }
   ],
   "source": [
    "data_path = Path('./data_opt125m')\n",
    "num_blocks = len(list(data_path.iterdir()))\n",
    "data = ConsecutiveOutputsDataset(data_path, 0) \n",
    "hidden_size = data[0][0].numel()\n",
    "print(num_blocks, hidden_size)"
   ]
  },
  {
   "cell_type": "code",
   "execution_count": 17,
   "metadata": {},
   "outputs": [],
   "source": [
    "block_embeddings = [[] for _ in range(data.num_layers)]\n",
    "for x, v1, v2, blocks in data:\n",
    "    block = blocks[0]\n",
    "    block_embeddings[block].append(x.cpu())\n",
    "    if block == data.num_layers - 2:\n",
    "        block_embeddings[block + 1].append(v2.cpu())"
   ]
  },
  {
   "cell_type": "code",
   "execution_count": 18,
   "metadata": {},
   "outputs": [],
   "source": [
    "block_embeddings = [torch.cat(x).reshape(-1, hidden_size).cuda() for x in block_embeddings]"
   ]
  },
  {
   "cell_type": "code",
   "execution_count": 19,
   "metadata": {},
   "outputs": [
    {
     "data": {
      "text/plain": [
       "torch.Size([4695, 768])"
      ]
     },
     "execution_count": 19,
     "metadata": {},
     "output_type": "execute_result"
    }
   ],
   "source": [
    "block_embeddings[0].shape"
   ]
  },
  {
   "cell_type": "code",
   "execution_count": 20,
   "metadata": {},
   "outputs": [
    {
     "data": {
      "text/plain": [
       "0.16349244117736816"
      ]
     },
     "execution_count": 20,
     "metadata": {},
     "output_type": "execute_result"
    }
   ],
   "source": [
    "compute_linearity_score(torch.randn_like(block_embeddings[0]), torch.randn_like(block_embeddings[0]))"
   ]
  },
  {
   "cell_type": "code",
   "execution_count": 21,
   "metadata": {},
   "outputs": [
    {
     "name": "stdout",
     "output_type": "stream",
     "text": [
      "0 0.925683856010437\n",
      "1 0.9518418312072754\n",
      "2 0.9581395387649536\n",
      "3 0.9647754430770874\n",
      "4 0.9484754204750061\n",
      "5 0.9381443858146667\n",
      "6 0.9413374066352844\n",
      "7 0.9413102865219116\n",
      "8 0.9302809238433838\n",
      "9 0.9235631823539734\n",
      "10 0.9342614412307739\n",
      "11 1.0\n"
     ]
    }
   ],
   "source": [
    "k = 1\n",
    "for idx in range(data.num_layers - k):\n",
    "    print(idx, compute_linearity_score(block_embeddings[idx], block_embeddings[idx + k]))"
   ]
  },
  {
   "cell_type": "code",
   "execution_count": 22,
   "metadata": {},
   "outputs": [],
   "source": [
    "def get_linearity_dist(block1, block2):\n",
    "    n_samples = block1.size(0)\n",
    "    assert n_samples == block2.size(0)\n",
    "    X, Y = normalize(block1), normalize(block2)\n",
    "    A_est = get_A_est(X, Y)\n",
    "    linearities = torch.zeros(n_samples)\n",
    "    for idx, (x, y) in enumerate(zip(X, Y)): \n",
    "        err = (A_est @ x - y).square().sum() \n",
    "        linearities[idx] = 1 - err \n",
    "\n",
    "    return linearities"
   ]
  },
  {
   "cell_type": "code",
   "execution_count": 23,
   "metadata": {},
   "outputs": [
    {
     "data": {
      "text/plain": [
       "tensor([0.9990, 0.9992, 0.9992,  ..., 0.9994, 0.9986, 0.9991])"
      ]
     },
     "execution_count": 23,
     "metadata": {},
     "output_type": "execute_result"
    }
   ],
   "source": [
    "get_linearity_dist(block_embeddings[0], block_embeddings[-1])"
   ]
  },
  {
   "cell_type": "code",
   "execution_count": 24,
   "metadata": {},
   "outputs": [
    {
     "data": {
      "text/plain": [
       "<seaborn.axisgrid.FacetGrid at 0x7f252c182ec0>"
      ]
     },
     "execution_count": 24,
     "metadata": {},
     "output_type": "execute_result"
    },
    {
     "data": {
      "image/png": "[encoded data removed]",
      "text/plain": [
       "<Figure size 500x500 with 1 Axes>"
      ]
     },
     "metadata": {},
     "output_type": "display_data"
    }
   ],
   "source": [
    "import seaborn as sns\n",
    "\n",
    "sns.displot(get_linearity_dist(block_embeddings[2], block_embeddings[7]), bins=100)"
   ]
  },
  {
   "cell_type": "code",
   "execution_count": 25,
   "metadata": {},
   "outputs": [],
   "source": [
    "class SimpleAutoEncoder(nn.Module):\n",
    "    def __init__(self, embed_dim: int, hidden_size: int):\n",
    "        super(SimpleAutoEncoder, self).__init__()\n",
    "\n",
    "        self.fc1 = nn.Linear(embed_dim, hidden_size)\n",
    "        self.relu = nn.ReLU()\n",
    "        self.fc2 = nn.Linear(embed_dim, hidden_size)\n",
    "    \n",
    "    def forward(self, x):\n",
    "        return self.fc2(self.relu(self.fc1(x)))"
   ]
  },
  {
   "cell_type": "code",
   "execution_count": 26,
   "metadata": {},
   "outputs": [],
   "source": [
    "N = len(data)\n",
    "train_len = int(N * 0.7)\n",
    "train_data, test_data = random_split(data, lengths=[train_len, N - train_len])\n",
    "train_loader = DataLoader(train_data, batch_size=16, shuffle=True)\n",
    "test_loader = DataLoader(test_data, batch_size=16, shuffle=False)\n",
    "tgt_block = 3"
   ]
  },
  {
   "cell_type": "code",
   "execution_count": 27,
   "metadata": {},
   "outputs": [
    {
     "ename": "RuntimeError",
     "evalue": "Expected all tensors to be on the same device, but found at least two devices, cuda:0 and cpu! (when checking argument for argument mat1 in method wrapper_CUDA_addmm)",
     "output_type": "error",
     "traceback": [
      "\u001b[0;31m---------------------------------------------------------------------------\u001b[0m",
      "\u001b[0;31mRuntimeError\u001b[0m                              Traceback (most recent call last)",
      "Cell \u001b[0;32mIn[27], line 15\u001b[0m\n\u001b[1;32m     12\u001b[0m     \u001b[38;5;28;01mcontinue\u001b[39;00m\n\u001b[1;32m     14\u001b[0m optimizer\u001b[38;5;241m.\u001b[39mzero_grad()\n\u001b[0;32m---> 15\u001b[0m outputs \u001b[38;5;241m=\u001b[39m \u001b[43mmodel\u001b[49m\u001b[43m(\u001b[49m\u001b[43mx\u001b[49m\u001b[43m[\u001b[49m\u001b[43mindices\u001b[49m\u001b[43m]\u001b[49m\u001b[43m)\u001b[49m\n\u001b[1;32m     16\u001b[0m loss \u001b[38;5;241m=\u001b[39m criterion(outputs , v1[indices])\n\u001b[1;32m     17\u001b[0m loss\u001b[38;5;241m.\u001b[39mbackward()\n",
      "File \u001b[0;32m~/anaconda3/envs/nlp/lib/python3.10/site-packages/torch/nn/modules/module.py:1511\u001b[0m, in \u001b[0;36mModule._wrapped_call_impl\u001b[0;34m(self, *args, **kwargs)\u001b[0m\n\u001b[1;32m   1509\u001b[0m     \u001b[38;5;28;01mreturn\u001b[39;00m \u001b[38;5;28mself\u001b[39m\u001b[38;5;241m.\u001b[39m_compiled_call_impl(\u001b[38;5;241m*\u001b[39margs, \u001b[38;5;241m*\u001b[39m\u001b[38;5;241m*\u001b[39mkwargs)  \u001b[38;5;66;03m# type: ignore[misc]\u001b[39;00m\n\u001b[1;32m   1510\u001b[0m \u001b[38;5;28;01melse\u001b[39;00m:\n\u001b[0;32m-> 1511\u001b[0m     \u001b[38;5;28;01mreturn\u001b[39;00m \u001b[38;5;28;43mself\u001b[39;49m\u001b[38;5;241;43m.\u001b[39;49m\u001b[43m_call_impl\u001b[49m\u001b[43m(\u001b[49m\u001b[38;5;241;43m*\u001b[39;49m\u001b[43margs\u001b[49m\u001b[43m,\u001b[49m\u001b[43m \u001b[49m\u001b[38;5;241;43m*\u001b[39;49m\u001b[38;5;241;43m*\u001b[39;49m\u001b[43mkwargs\u001b[49m\u001b[43m)\u001b[49m\n",
      "File \u001b[0;32m~/anaconda3/envs/nlp/lib/python3.10/site-packages/torch/nn/modules/module.py:1520\u001b[0m, in \u001b[0;36mModule._call_impl\u001b[0;34m(self, *args, **kwargs)\u001b[0m\n\u001b[1;32m   1515\u001b[0m \u001b[38;5;66;03m# If we don't have any hooks, we want to skip the rest of the logic in\u001b[39;00m\n\u001b[1;32m   1516\u001b[0m \u001b[38;5;66;03m# this function, and just call forward.\u001b[39;00m\n\u001b[1;32m   1517\u001b[0m \u001b[38;5;28;01mif\u001b[39;00m \u001b[38;5;129;01mnot\u001b[39;00m (\u001b[38;5;28mself\u001b[39m\u001b[38;5;241m.\u001b[39m_backward_hooks \u001b[38;5;129;01mor\u001b[39;00m \u001b[38;5;28mself\u001b[39m\u001b[38;5;241m.\u001b[39m_backward_pre_hooks \u001b[38;5;129;01mor\u001b[39;00m \u001b[38;5;28mself\u001b[39m\u001b[38;5;241m.\u001b[39m_forward_hooks \u001b[38;5;129;01mor\u001b[39;00m \u001b[38;5;28mself\u001b[39m\u001b[38;5;241m.\u001b[39m_forward_pre_hooks\n\u001b[1;32m   1518\u001b[0m         \u001b[38;5;129;01mor\u001b[39;00m _global_backward_pre_hooks \u001b[38;5;129;01mor\u001b[39;00m _global_backward_hooks\n\u001b[1;32m   1519\u001b[0m         \u001b[38;5;129;01mor\u001b[39;00m _global_forward_hooks \u001b[38;5;129;01mor\u001b[39;00m _global_forward_pre_hooks):\n\u001b[0;32m-> 1520\u001b[0m     \u001b[38;5;28;01mreturn\u001b[39;00m \u001b[43mforward_call\u001b[49m\u001b[43m(\u001b[49m\u001b[38;5;241;43m*\u001b[39;49m\u001b[43margs\u001b[49m\u001b[43m,\u001b[49m\u001b[43m \u001b[49m\u001b[38;5;241;43m*\u001b[39;49m\u001b[38;5;241;43m*\u001b[39;49m\u001b[43mkwargs\u001b[49m\u001b[43m)\u001b[49m\n\u001b[1;32m   1522\u001b[0m \u001b[38;5;28;01mtry\u001b[39;00m:\n\u001b[1;32m   1523\u001b[0m     result \u001b[38;5;241m=\u001b[39m \u001b[38;5;28;01mNone\u001b[39;00m\n",
      "File \u001b[0;32m~/anaconda3/envs/nlp/lib/python3.10/site-packages/torch/nn/modules/linear.py:116\u001b[0m, in \u001b[0;36mLinear.forward\u001b[0;34m(self, input)\u001b[0m\n\u001b[1;32m    115\u001b[0m \u001b[38;5;28;01mdef\u001b[39;00m \u001b[38;5;21mforward\u001b[39m(\u001b[38;5;28mself\u001b[39m, \u001b[38;5;28minput\u001b[39m: Tensor) \u001b[38;5;241m-\u001b[39m\u001b[38;5;241m>\u001b[39m Tensor:\n\u001b[0;32m--> 116\u001b[0m     \u001b[38;5;28;01mreturn\u001b[39;00m \u001b[43mF\u001b[49m\u001b[38;5;241;43m.\u001b[39;49m\u001b[43mlinear\u001b[49m\u001b[43m(\u001b[49m\u001b[38;5;28;43minput\u001b[39;49m\u001b[43m,\u001b[49m\u001b[43m \u001b[49m\u001b[38;5;28;43mself\u001b[39;49m\u001b[38;5;241;43m.\u001b[39;49m\u001b[43mweight\u001b[49m\u001b[43m,\u001b[49m\u001b[43m \u001b[49m\u001b[38;5;28;43mself\u001b[39;49m\u001b[38;5;241;43m.\u001b[39;49m\u001b[43mbias\u001b[49m\u001b[43m)\u001b[49m\n",
      "\u001b[0;31mRuntimeError\u001b[0m: Expected all tensors to be on the same device, but found at least two devices, cuda:0 and cpu! (when checking argument for argument mat1 in method wrapper_CUDA_addmm)"
     ]
    }
   ],
   "source": [
    "criterion = nn.MSELoss()\n",
    "# model = SimpleAutoEncoder(768, 768).to('cuda')\n",
    "model = nn.Linear(768, 768).to('cuda')\n",
    "optimizer = torch.optim.AdamW(model.parameters(), lr=1e-3)\n",
    "for epoch in range(10):\n",
    "    epoch_loss = 0\n",
    "    model.train()\n",
    "    for x, v1, v2, blocks in train_loader:\n",
    "        x_blocks = blocks[:, 0]\n",
    "        indices = x_blocks == tgt_block \n",
    "        if indices.sum() == 0:\n",
    "            continue\n",
    "        \n",
    "        optimizer.zero_grad()\n",
    "        outputs = model(x[indices])\n",
    "        loss = criterion(outputs , v1[indices])\n",
    "        loss.backward()\n",
    "        optimizer.step()\n",
    "\n",
    "        epoch_loss += loss.item()\n",
    "    \n",
    "    test_loss = 0\n",
    "    model.eval()\n",
    "    for x, v1, v2, blocks in test_loader:\n",
    "        x_blocks = blocks[:, 0]\n",
    "        indices = x_blocks == tgt_block\n",
    "        if indices.sum() == 0:\n",
    "            continue\n",
    "    \n",
    "        outputs = model(x[indices])\n",
    "        loss = criterion(outputs, v1[indices])\n",
    "        test_loss += loss.item()\n",
    "\n",
    "    print(f'{epoch=}, Train loss: {epoch_loss / len(train_data):.4e}, Test loss {test_loss / len(test_data):.4e}')"
   ]
  },
  {
   "cell_type": "code",
   "execution_count": null,
   "metadata": {},
   "outputs": [
    {
     "name": "stdout",
     "output_type": "stream",
     "text": [
      "0 tensor(1.6440, device='cuda:0')\n",
      "1 tensor(2.5635, device='cuda:0')\n",
      "2 tensor(3.1261, device='cuda:0')\n",
      "3 tensor(4.0580, device='cuda:0')\n",
      "4 tensor(4.3789, device='cuda:0')\n",
      "5 tensor(4.8121, device='cuda:0')\n",
      "6 tensor(5.1682, device='cuda:0')\n",
      "7 tensor(5.6405, device='cuda:0')\n",
      "8 tensor(6.2163, device='cuda:0')\n",
      "9 tensor(7.1597, device='cuda:0')\n",
      "10 tensor(8.5492, device='cuda:0')\n",
      "11 tensor(10.3722, device='cuda:0')\n",
      "12 tensor(9.9927, device='cuda:0')\n"
     ]
    }
   ],
   "source": [
    "for idx in range(len(block_embeddings)):\n",
    "    print(idx, block_embeddings[idx].norm(dim=-1).mean()) "
   ]
  },
  {
   "cell_type": "code",
   "execution_count": null,
   "metadata": {},
   "outputs": [
    {
     "data": {
      "text/plain": [
       "tensor(0.0503, device='cuda:0')"
      ]
     },
     "execution_count": 19,
     "metadata": {},
     "output_type": "execute_result"
    }
   ],
   "source": [
    "F.cosine_similarity(block_embeddings[0][0], block_embeddings[1][0], dim=0)"
   ]
  },
  {
   "cell_type": "code",
   "execution_count": null,
   "metadata": {},
   "outputs": [
    {
     "name": "stdout",
     "output_type": "stream",
     "text": [
      "0 tensor(0.7336, device='cuda:0')\n",
      "1 tensor(0.9431, device='cuda:0')\n",
      "2 tensor(0.9613, device='cuda:0')\n",
      "3 tensor(0.9715, device='cuda:0')\n",
      "4 tensor(0.9599, device='cuda:0')\n",
      "5 tensor(0.9502, device='cuda:0')\n",
      "6 tensor(0.9487, device='cuda:0')\n",
      "7 tensor(0.9480, device='cuda:0')\n",
      "8 tensor(0.9332, device='cuda:0')\n",
      "9 tensor(0.9221, device='cuda:0')\n",
      "10 tensor(0.9286, device='cuda:0')\n",
      "11 tensor(0.9055, device='cuda:0')\n"
     ]
    }
   ],
   "source": [
    "for idx in range(len(block_embeddings) - 1):\n",
    "    print(idx, F.cosine_similarity(block_embeddings[idx], block_embeddings[idx + 1], dim=-1).mean())"
   ]
  },
  {
   "cell_type": "code",
   "execution_count": null,
   "metadata": {},
   "outputs": [],
   "source": []
  }
 ],
 "metadata": {
  "kernelspec": {
   "display_name": "nlp",
   "language": "python",
   "name": "python3"
  },
  "language_info": {
   "codemirror_mode": {
    "name": "ipython",
    "version": 3
   },
   "file_extension": ".py",
   "mimetype": "text/x-python",
   "name": "python",
   "nbconvert_exporter": "python",
   "pygments_lexer": "ipython3",
   "version": "3.10.13"
  }
 },
 "nbformat": 4,
 "nbformat_minor": 2
}
